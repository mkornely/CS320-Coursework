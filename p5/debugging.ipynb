{
 "cells": [
  {
   "cell_type": "code",
   "execution_count": 1,
   "id": "2aef2451",
   "metadata": {},
   "outputs": [],
   "source": [
    "f=open(\"ip2location.csv\")"
   ]
  },
  {
   "cell_type": "code",
   "execution_count": 2,
   "id": "3d7e625d",
   "metadata": {},
   "outputs": [
    {
     "data": {
      "text/html": [
       "<div>\n",
       "<style scoped>\n",
       "    .dataframe tbody tr th:only-of-type {\n",
       "        vertical-align: middle;\n",
       "    }\n",
       "\n",
       "    .dataframe tbody tr th {\n",
       "        vertical-align: top;\n",
       "    }\n",
       "\n",
       "    .dataframe thead th {\n",
       "        text-align: right;\n",
       "    }\n",
       "</style>\n",
       "<table border=\"1\" class=\"dataframe\">\n",
       "  <thead>\n",
       "    <tr style=\"text-align: right;\">\n",
       "      <th></th>\n",
       "      <th>low</th>\n",
       "      <th>high</th>\n",
       "      <th>code</th>\n",
       "      <th>region</th>\n",
       "    </tr>\n",
       "  </thead>\n",
       "  <tbody>\n",
       "    <tr>\n",
       "      <th>0</th>\n",
       "      <td>0</td>\n",
       "      <td>16777215</td>\n",
       "      <td>-</td>\n",
       "      <td>-</td>\n",
       "    </tr>\n",
       "    <tr>\n",
       "      <th>1</th>\n",
       "      <td>16777216</td>\n",
       "      <td>16777471</td>\n",
       "      <td>US</td>\n",
       "      <td>United States of America</td>\n",
       "    </tr>\n",
       "    <tr>\n",
       "      <th>2</th>\n",
       "      <td>16777472</td>\n",
       "      <td>16778239</td>\n",
       "      <td>CN</td>\n",
       "      <td>China</td>\n",
       "    </tr>\n",
       "    <tr>\n",
       "      <th>3</th>\n",
       "      <td>16778240</td>\n",
       "      <td>16779263</td>\n",
       "      <td>AU</td>\n",
       "      <td>Australia</td>\n",
       "    </tr>\n",
       "    <tr>\n",
       "      <th>4</th>\n",
       "      <td>16779264</td>\n",
       "      <td>16781311</td>\n",
       "      <td>CN</td>\n",
       "      <td>China</td>\n",
       "    </tr>\n",
       "    <tr>\n",
       "      <th>...</th>\n",
       "      <td>...</td>\n",
       "      <td>...</td>\n",
       "      <td>...</td>\n",
       "      <td>...</td>\n",
       "    </tr>\n",
       "    <tr>\n",
       "      <th>174967</th>\n",
       "      <td>3758094336</td>\n",
       "      <td>3758095359</td>\n",
       "      <td>HK</td>\n",
       "      <td>Hong Kong</td>\n",
       "    </tr>\n",
       "    <tr>\n",
       "      <th>174968</th>\n",
       "      <td>3758095360</td>\n",
       "      <td>3758095871</td>\n",
       "      <td>CN</td>\n",
       "      <td>China</td>\n",
       "    </tr>\n",
       "    <tr>\n",
       "      <th>174969</th>\n",
       "      <td>3758095872</td>\n",
       "      <td>3758096127</td>\n",
       "      <td>SG</td>\n",
       "      <td>Singapore</td>\n",
       "    </tr>\n",
       "    <tr>\n",
       "      <th>174970</th>\n",
       "      <td>3758096128</td>\n",
       "      <td>3758096383</td>\n",
       "      <td>AU</td>\n",
       "      <td>Australia</td>\n",
       "    </tr>\n",
       "    <tr>\n",
       "      <th>174971</th>\n",
       "      <td>3758096384</td>\n",
       "      <td>4294967295</td>\n",
       "      <td>-</td>\n",
       "      <td>-</td>\n",
       "    </tr>\n",
       "  </tbody>\n",
       "</table>\n",
       "<p>174972 rows × 4 columns</p>\n",
       "</div>"
      ],
      "text/plain": [
       "               low        high code                    region\n",
       "0                0    16777215    -                         -\n",
       "1         16777216    16777471   US  United States of America\n",
       "2         16777472    16778239   CN                     China\n",
       "3         16778240    16779263   AU                 Australia\n",
       "4         16779264    16781311   CN                     China\n",
       "...            ...         ...  ...                       ...\n",
       "174967  3758094336  3758095359   HK                 Hong Kong\n",
       "174968  3758095360  3758095871   CN                     China\n",
       "174969  3758095872  3758096127   SG                 Singapore\n",
       "174970  3758096128  3758096383   AU                 Australia\n",
       "174971  3758096384  4294967295    -                         -\n",
       "\n",
       "[174972 rows x 4 columns]"
      ]
     },
     "execution_count": 2,
     "metadata": {},
     "output_type": "execute_result"
    }
   ],
   "source": [
    "import pandas as pd\n",
    "df=pd.read_csv(\"ip2location.csv\")\n",
    "df"
   ]
  },
  {
   "cell_type": "code",
   "execution_count": 3,
   "id": "496e7b79",
   "metadata": {},
   "outputs": [
    {
     "name": "stdout",
     "output_type": "stream",
     "text": [
      "16777215\n"
     ]
    }
   ],
   "source": [
    "print(df.loc[0]['high'])\n",
    "import netaddr\n",
    "#int(netaddr.IPAddress(\"1.1.1.1\"))\n"
   ]
  },
  {
   "cell_type": "code",
   "execution_count": 4,
   "id": "985e5b9e",
   "metadata": {},
   "outputs": [
    {
     "name": "stdout",
     "output_type": "stream",
     "text": [
      "5\n",
      "4\n",
      "3\n",
      "2\n",
      "1\n"
     ]
    }
   ],
   "source": [
    "for i in range(5,0,-1) :\n",
    "    print(i)"
   ]
  },
  {
   "cell_type": "code",
   "execution_count": 5,
   "id": "82560b1a",
   "metadata": {},
   "outputs": [
    {
     "name": "stdout",
     "output_type": "stream",
     "text": [
      "3035.svg  README.md\t   geo.svg\t    out.svg\t     tester.py\r\n",
      "4036.svg  actual.json\t   ip2location.csv  results.json     untitled.txt\r\n",
      "4144.svg  debugging.ipynb  main.py\t    server_log.zip\r\n",
      "4248.svg  docs.zip\t   mainlist.py\t    server_log2.zip\r\n",
      "4555.svg  expected.json    nohup.out\t    temp.zip\r\n"
     ]
    }
   ],
   "source": [
    "!ls"
   ]
  },
  {
   "cell_type": "code",
   "execution_count": 6,
   "id": "8b98ce12",
   "metadata": {},
   "outputs": [
    {
     "name": "stdout",
     "output_type": "stream",
     "text": [
      "[{\"ip\": \"1.1.1.1\", \"int_ip\": 16843009, \"region\": \"United States of America\", \"ms\": 0.007453203201293945}, {\"ip\": \"5.5.5.5\", \"int_ip\": 84215045, \"region\": \"Germany\", \"ms\": 0.008594989776611328}, {\"ip\": \"9.9.9.9\", \"int_ip\": 151587081, \"region\": \"United States of America\", \"ms\": 0.014947652816772461}, {\"ip\": \"7.7.7.7\", \"int_ip\": 117901063, \"region\": \"United States of America\", \"ms\": 0.0009908676147460938}, {\"ip\": \"5.5.5.4\", \"int_ip\": 84215044, \"region\": \"Germany\", \"ms\": 0.006427288055419922}, {\"ip\": \"5.5.5.5\", \"int_ip\": 84215045, \"region\": \"Germany\", \"ms\": 2.1696090698242188e-05}, {\"ip\": \"5.5.5.6\", \"int_ip\": 84215046, \"region\": \"Germany\", \"ms\": 1.239776611328125e-05}, {\"ip\": \"5.5.5.7\", \"int_ip\": 84215047, \"region\": \"Germany\", \"ms\": 1.1205673217773438e-05}, {\"ip\": \"5.5.5.8\", \"int_ip\": 84215048, \"region\": \"Germany\", \"ms\": 2.3365020751953125e-05}, {\"ip\": \"5.5.5.9\", \"int_ip\": 84215049, \"region\": \"Germany\", \"ms\": 1.1682510375976562e-05}]\r\n"
     ]
    }
   ],
   "source": [
    "!python3 main.py ip_check 1.1.1.1 5.5.5.5 9.9.9.9 7.7.7.7 5.5.5.4 5.5.5.5 5.5.5.6 5.5.5.7 5.5.5.8 5.5.5.9"
   ]
  },
  {
   "cell_type": "code",
   "execution_count": 7,
   "id": "4b56a8f3",
   "metadata": {},
   "outputs": [
    {
     "name": "stdout",
     "output_type": "stream",
     "text": [
      "['CA']\n"
     ]
    }
   ],
   "source": [
    "from zipfile import ZipFile, ZIP_DEFLATED\n",
    "import re\n",
    "from io import TextIOWrapper\n",
    "\n",
    "file_list=[]\n",
    "with ZipFile(\"docs.zip\") as zf:\n",
    "    for i in zf.namelist():\n",
    "        if(i.endswith('-index.htm')):\n",
    "            file_list.append(i)\n",
    "    with zf.open(file_list[0], 'r') as file:\n",
    "        data=str(file.read())\n",
    "\n",
    "address=re.findall(r\"\\w+\\s+\\w{2}\\s\\d{5}(?:\\-\\d{4})?\",data)\n",
    "state=re.findall(r\"NY|CA|WI|IL\",address[0])\n",
    "zipcode=re.findall(r\"\\d{5}(?:\\-\\d{4})?\",address[1])\n",
    "\n",
    "print(state)\n"
   ]
  },
  {
   "cell_type": "code",
   "execution_count": 8,
   "id": "2de3f9ad",
   "metadata": {},
   "outputs": [
    {
     "ename": "IndentationError",
     "evalue": "expected an indented block (1048189230.py, line 14)",
     "output_type": "error",
     "traceback": [
      "\u001b[0;36m  File \u001b[0;32m\"/tmp/ipykernel_12245/1048189230.py\"\u001b[0;36m, line \u001b[0;32m14\u001b[0m\n\u001b[0;31m    reader = csv.DictReader(TextIOWrapper(f, 'utf-8'))\u001b[0m\n\u001b[0m                                                      ^\u001b[0m\n\u001b[0;31mIndentationError\u001b[0m\u001b[0;31m:\u001b[0m expected an indented block\n"
     ]
    }
   ],
   "source": [
    "import pandas as pd\n",
    "import netaddr\n",
    "import csv \n",
    "from io import TextIOWrapper\n",
    "\n",
    "\n",
    "\n",
    "\n",
    "with ZipFile(\"server_log.zip\",\"r\", compression=ZIP_DEFLATED) as zf:\n",
    "    with zf.open(\"rows.csv\", \"r\") as f:\n",
    "        \n",
    "        \n",
    "         \n",
    "reader = csv.DictReader(TextIOWrapper(f, 'utf-8'))\n",
    "readerlist=[]\n",
    "for row in reader:\n",
    "    readerlist.append(row)\n",
    "\n",
    "        \n",
    "readerlist"
   ]
  },
  {
   "cell_type": "code",
   "execution_count": null,
   "id": "21e1ea11",
   "metadata": {},
   "outputs": [],
   "source": [
    "import netaddr\n",
    "int(netaddr.IPAddress(\"104.197.32.000\"))"
   ]
  },
  {
   "cell_type": "code",
   "execution_count": null,
   "id": "8b192f2e",
   "metadata": {},
   "outputs": [],
   "source": [
    "!python3 main.py region server_log.zip server_log2.zip\n"
   ]
  },
  {
   "cell_type": "code",
   "execution_count": null,
   "id": "1d4ca1db",
   "metadata": {},
   "outputs": [],
   "source": [
    "!python3 tester.py\n",
    "\n"
   ]
  },
  {
   "cell_type": "code",
   "execution_count": null,
   "id": "4582ec3f",
   "metadata": {},
   "outputs": [],
   "source": [
    "!python3 main.py zipcode docs.zip"
   ]
  },
  {
   "cell_type": "code",
   "execution_count": null,
   "id": "e94cb2a9",
   "metadata": {},
   "outputs": [],
   "source": [
    "!python3 main.py geo 3035 out.svg"
   ]
  },
  {
   "cell_type": "code",
   "execution_count": null,
   "id": "2afb7d81",
   "metadata": {},
   "outputs": [],
   "source": [
    "import pyproj\n",
    "proj=3035\n",
    "crs = pyproj.CRS.from_epsg(proj)\n",
    "\n",
    "i=0\n",
    "world.loc[world['name'] == frequency.at[i,'index']['colorname']]='red'\n"
   ]
  },
  {
   "cell_type": "code",
   "execution_count": 12,
   "id": "23413c86",
   "metadata": {},
   "outputs": [
    {
     "data": {
      "image/png": "[encoded data removed]",
      "text/plain": [
       "<Figure size 432x288 with 1 Axes>"
      ]
     },
     "metadata": {
      "needs_background": "light"
     },
     "output_type": "display_data"
    }
   ],
   "source": [
    "import pandas as pd\n",
    "import geopandas\n",
    "from shapely.geometry import Polygon, box, Point\n",
    "with ZipFile(\"server_log2.zip\", \"r\", compression=ZIP_DEFLATED) as zf:\n",
    "    with zf.open(\"rows.csv\", \"r\") as f: \n",
    "            df=pd.read_csv(f)\n",
    "            \n",
    "frequency=df['region'].value_counts().to_frame().reset_index()\n",
    "\n",
    "world = geopandas.read_file(geopandas.datasets.get_path('naturalearth_lowres'))\n",
    "import pyproj\n",
    "crs = pyproj.CRS.from_epsg(3035)\n",
    "#world=world.to_crs(crs)\n",
    "world[\"colorname\"]=\"gray\"\n",
    "\n",
    "world.loc[world['name']==frequency.at[0,'index']]\n",
    "corresponding_frame=world.loc[world['name']==frequency.at[0,'index'],'colorname']\n",
    "\n",
    "world.at[world['name'] == frequency.at[0,'index'],'colorname']='red'\n",
    "\n",
    "for i in range(0,len(frequency)):\n",
    "    corresponding_frame=world.loc[world['name']==frequency.at[i,'index'],'colorname']\n",
    "    if(frequency.at[i,'region']>=1000):\n",
    "        if(not corresponding_frame.empty):\n",
    "            world.at[world['name'] == frequency.at[i,'index'],'colorname']='red'\n",
    "    elif(frequency.at[i,'region']>=1):\n",
    "        if(not corresponding_frame.empty):\n",
    "            world.at[world['name'] == frequency.at[i,'index'],'colorname']='orange'\n",
    "\n",
    "\n",
    "window = box(crs.area_of_use.west, crs.area_of_use.south, crs.area_of_use.east, crs.area_of_use.north)\n",
    "cropped = world.intersection(window)\n",
    "cropped = cropped[~cropped.is_empty]\n",
    "cropped=cropped.to_crs(crs)\n",
    "\n",
    "ax=cropped.plot(color=world[\"colorname\"])\n",
    "\n",
    "\n"
   ]
  },
  {
   "cell_type": "code",
   "execution_count": 32,
   "id": "d03f9912",
   "metadata": {},
   "outputs": [
    {
     "data": {
      "image/png": "[encoded data removed]",
      "text/plain": [
       "<Figure size 432x288 with 1 Axes>"
      ]
     },
     "metadata": {
      "needs_background": "light"
     },
     "output_type": "display_data"
    }
   ],
   "source": [
    " with ZipFile(\"server_log2.zip\", \"r\", compression=ZIP_DEFLATED) as zf:\n",
    "    with zf.open(\"rows.csv\", \"r\") as f: \n",
    "        df=pd.read_csv(f)\n",
    "    espg=3035       \n",
    "    frequency=df['region'].value_counts().to_frame().reset_index()\n",
    "\n",
    "    world = geopandas.read_file(geopandas.datasets.get_path('naturalearth_lowres'))\n",
    "    crs = pyproj.CRS.from_epsg(espg)\n",
    "#     world=world.to_crs(crs)\n",
    "    world[\"colorname\"]=\"gray\"\n",
    "\n",
    "   \n",
    "    corresponding_frame=world.loc[world['name']==frequency.at[0,'index'],'colorname']\n",
    "\n",
    "    world.at[world['name'] == frequency.at[0,'index'],'colorname']='red'\n",
    "\n",
    "    for i in range(0,len(frequency)):\n",
    "        corresponding_frame=world.loc[world['name']==frequency.at[i,'index'],'colorname']\n",
    "        if(frequency.at[i,'region']>=1000):\n",
    "            if(not corresponding_frame.empty):\n",
    "                world.at[world['name'] == frequency.at[i,'index'],'colorname']='red'\n",
    "        elif(frequency.at[i,'region']>=1):\n",
    "            if(not corresponding_frame.empty):\n",
    "                world.at[world['name'] == frequency.at[i,'index'],'colorname']='orange'\n",
    "\n",
    "window = box(crs.area_of_use.west, crs.area_of_use.south, crs.area_of_use.east, crs.area_of_use.north)\n",
    "world[\"geometry\"] = world[\"geometry\"].intersection(window)\n",
    "world = world[~world.is_empty]\n",
    "ax=world.to_crs(crs).plot(color=world[\"colorname\"])\n",
    "\n",
    "\n",
    "# pd.set_option(\"display.max_rows\", None, \"display.max_columns\", None)\n",
    "\n"
   ]
  },
  {
   "cell_type": "code",
   "execution_count": 33,
   "id": "341b617c",
   "metadata": {},
   "outputs": [],
   "source": [
    "!python3 main.py geo 3035 out.svg"
   ]
  },
  {
   "cell_type": "code",
   "execution_count": 34,
   "id": "842da237",
   "metadata": {},
   "outputs": [
    {
     "name": "stdout",
     "output_type": "stream",
     "text": [
      "Running tests...\n",
      "========================================\n",
      "TEST ip_check (25 points possible)\n",
      "RUN: python3 main.py ip_check 1.1.1.1 5.5.5.5 9.9.9.9 7.7.7.7 5.5.5.4 5.5.5.5 5.5.5.6 5.5.5.7 5.5.5.8 5.5.5.9\n",
      "TEST RESULT: 25 of 25 points\n",
      "========================================\n",
      "TEST region (25 points possible)\n",
      "RUN: python3 main.py region server_log.zip temp.zip\n",
      "TEST RESULT: 25 of 25 points\n",
      "========================================\n",
      "TEST zipcode (25 points possible)\n",
      "RUN: python3 main.py zipcode docs.zip\n",
      "TEST RESULT: 25.0 of 25 points\n",
      "========================================\n",
      "TEST geo (25 points possible)\n",
      "RUN: python3 main.py geo 3035 3035.svg\n",
      "RUN: python3 main.py geo 4036 4036.svg\n",
      "RUN: python3 main.py geo 4144 4144.svg\n",
      "RUN: python3 main.py geo 4248 4248.svg\n",
      "RUN: python3 main.py geo 4555 4555.svg\n",
      "TEST RESULT: 25 of 25 points\n",
      "========================================\n",
      "Earned 100.0 of 100 points across all tests\n",
      "========================================\n",
      "SCORE: 100.0% (details in results.json)\n"
     ]
    }
   ],
   "source": [
    "!python3 tester.py\n"
   ]
  },
  {
   "cell_type": "code",
   "execution_count": null,
   "id": "5b6b124e",
   "metadata": {},
   "outputs": [],
   "source": [
    "!python3 main.py zipcode docs.zip"
   ]
  },
  {
   "cell_type": "code",
   "execution_count": null,
   "id": "c700ed6e",
   "metadata": {},
   "outputs": [],
   "source": []
  }
 ],
 "metadata": {
  "kernelspec": {
   "display_name": "Python 3 (ipykernel)",
   "language": "python",
   "name": "python3"
  },
  "language_info": {
   "codemirror_mode": {
    "name": "ipython",
    "version": 3
   },
   "file_extension": ".py",
   "mimetype": "text/x-python",
   "name": "python",
   "nbconvert_exporter": "python",
   "pygments_lexer": "ipython3",
   "version": "3.8.10"
  }
 },
 "nbformat": 4,
 "nbformat_minor": 5
}
