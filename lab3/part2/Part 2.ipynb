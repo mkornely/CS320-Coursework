{
 "cells": [
  {
   "cell_type": "code",
   "execution_count": 1,
   "id": "677e6808",
   "metadata": {},
   "outputs": [],
   "source": [
    "import pandas as pd\n",
    "from zipfile import ZipFile, ZIP_DEFLATED\n",
    "from io import TextIOWrapper\n",
    "\n",
    "with open(\"hello.txt\", \"w\") as f:\n",
    "    f.write(\"hello world\")\n",
    "\n",
    "with ZipFile(\"example.zip\", \"w\", compression=ZIP_DEFLATED) as zf:\n",
    "    with zf.open(\"hello.txt\", \"w\") as f:\n",
    "        f.write(bytes(\"hello world\", \"utf-8\"))\n",
    "    with zf.open(\"ha.txt\", \"w\") as f:\n",
    "        f.write(bytes(\"ha\"*10000, \"utf-8\"))\n",
    "    with zf.open(\"bugs.csv\", \"w\") as f:\n",
    "        pd.DataFrame([[\"Mon\",7], [\"Tue\",4], [\"Wed\",3], [\"Thu\",6], [\"Fri\",9]],\n",
    "                     columns=[\"day\", \"bugs\"]).to_csv(TextIOWrapper(f), index=False)\n"
   ]
  },
  {
   "cell_type": "code",
   "execution_count": 2,
   "id": "9db23230",
   "metadata": {},
   "outputs": [],
   "source": [
    "from zipfile import ZipFile\n"
   ]
  },
  {
   "cell_type": "code",
   "execution_count": 3,
   "id": "a9da2f8e",
   "metadata": {},
   "outputs": [
    {
     "name": "stdout",
     "output_type": "stream",
     "text": [
      "<ZipInfo filename='hello.txt' compress_type=deflate filemode='?rw-------' file_size=11 compress_size=13>\n",
      "<ZipInfo filename='ha.txt' compress_type=deflate filemode='?rw-------' file_size=20000 compress_size=39>\n",
      "<ZipInfo filename='bugs.csv' compress_type=deflate filemode='?rw-------' file_size=39 compress_size=41>\n"
     ]
    }
   ],
   "source": [
    "with ZipFile('example.zip') as zf:\n",
    "    for info in zf.infolist():\n",
    "        print(info)\n"
   ]
  },
  {
   "cell_type": "code",
   "execution_count": 4,
   "id": "2aa9517f",
   "metadata": {},
   "outputs": [
    {
     "name": "stdout",
     "output_type": "stream",
     "text": [
      "file hello.txt, 0.000 MB (uncompressed), 0.8 compression ratio\n",
      "file ha.txt, 0.019 MB (uncompressed), 512.8 compression ratio\n",
      "file bugs.csv, 0.000 MB (uncompressed), 1.0 compression ratio\n"
     ]
    }
   ],
   "source": [
    "with ZipFile('example.zip') as zf:\n",
    "    for info in zf.infolist():\n",
    "        orig_mb = info.file_size / (1024**2) # there are 1024**2 bytes in a MB\n",
    "        ratio = info.file_size / info.compress_size\n",
    "        s = \"file {name:s}, {mb:.3f} MB (uncompressed), {ratio:.1f} compression ratio\"\n",
    "        print(s.format(name=info.filename, mb=orig_mb, ratio=ratio))\n"
   ]
  },
  {
   "cell_type": "code",
   "execution_count": 5,
   "id": "d3c6faa6",
   "metadata": {},
   "outputs": [
    {
     "name": "stdout",
     "output_type": "stream",
     "text": [
      "<class 'str'> <class 'bytes'>\n"
     ]
    },
    {
     "ename": "ValueError",
     "evalue": "read of closed file",
     "output_type": "error",
     "traceback": [
      "\u001b[0;31m---------------------------------------------------------------------------\u001b[0m",
      "\u001b[0;31mValueError\u001b[0m                                Traceback (most recent call last)",
      "\u001b[0;32m/tmp/ipykernel_55319/4034886210.py\u001b[0m in \u001b[0;36m<module>\u001b[0;34m\u001b[0m\n\u001b[1;32m      6\u001b[0m \u001b[0;34m\u001b[0m\u001b[0m\n\u001b[1;32m      7\u001b[0m \u001b[0mprint\u001b[0m\u001b[0;34m(\u001b[0m\u001b[0mtype\u001b[0m\u001b[0;34m(\u001b[0m\u001b[0mdata1\u001b[0m\u001b[0;34m)\u001b[0m\u001b[0;34m,\u001b[0m \u001b[0mtype\u001b[0m\u001b[0;34m(\u001b[0m\u001b[0mdata2\u001b[0m\u001b[0;34m)\u001b[0m\u001b[0;34m)\u001b[0m\u001b[0;34m\u001b[0m\u001b[0;34m\u001b[0m\u001b[0m\n\u001b[0;32m----> 8\u001b[0;31m \u001b[0mf\u001b[0m\u001b[0;34m.\u001b[0m\u001b[0mread\u001b[0m\u001b[0;34m(\u001b[0m\u001b[0;34m)\u001b[0m\u001b[0;34m\u001b[0m\u001b[0;34m\u001b[0m\u001b[0m\n\u001b[0m",
      "\u001b[0;31mValueError\u001b[0m: read of closed file"
     ]
    }
   ],
   "source": [
    "with open(\"hello.txt\", \"r\") as f:\n",
    "    data1 = f.read()\n",
    "\n",
    "with open(\"hello.txt\", \"rb\") as f:\n",
    "    data2 = f.read()\n",
    "\n",
    "print(type(data1), type(data2))"
   ]
  },
  {
   "cell_type": "code",
   "execution_count": null,
   "id": "dd7024e7",
   "metadata": {},
   "outputs": [],
   "source": []
  }
 ],
 "metadata": {
  "kernelspec": {
   "display_name": "Python 3 (ipykernel)",
   "language": "python",
   "name": "python3"
  },
  "language_info": {
   "codemirror_mode": {
    "name": "ipython",
    "version": 3
   },
   "file_extension": ".py",
   "mimetype": "text/x-python",
   "name": "python",
   "nbconvert_exporter": "python",
   "pygments_lexer": "ipython3",
   "version": "3.8.10"
  }
 },
 "nbformat": 4,
 "nbformat_minor": 5
}
