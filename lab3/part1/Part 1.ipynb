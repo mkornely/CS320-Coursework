{
 "cells": [
  {
   "cell_type": "code",
   "execution_count": 12,
   "id": "92a8d9a0",
   "metadata": {},
   "outputs": [],
   "source": [
    "f = open(\"file.txt\", \"w\")\n",
    "f.write(\"line1 \\n\")\n",
    "f.write(\"line2\")\n",
    "f.close() # you need the parentheses, even without arguments!"
   ]
  },
  {
   "cell_type": "code",
   "execution_count": 13,
   "id": "28d0fbc6",
   "metadata": {},
   "outputs": [
    {
     "name": "stdout",
     "output_type": "stream",
     "text": [
      "line1 \n",
      "line2\n"
     ]
    }
   ],
   "source": [
    "f = open(\"file.txt\", \"r\")\n",
    "print(f.read())\n",
    "f.close()"
   ]
  },
  {
   "cell_type": "code",
   "execution_count": 2,
   "id": "4a991ef7",
   "metadata": {},
   "outputs": [],
   "source": [
    "f = open(\"dog.json\")\n",
    "input1 = f.read()\n",
    "input2 = f.read()\n",
    "f.close()"
   ]
  },
  {
   "cell_type": "code",
   "execution_count": 13,
   "id": "0c533bd2",
   "metadata": {},
   "outputs": [
    {
     "data": {
      "text/plain": [
       "0"
      ]
     },
     "execution_count": 13,
     "metadata": {},
     "output_type": "execute_result"
    }
   ],
   "source": [
    "type(input1)\n",
    "len(input1)\n",
    "len(input2)"
   ]
  },
  {
   "cell_type": "code",
   "execution_count": 18,
   "id": "7a682b29",
   "metadata": {},
   "outputs": [
    {
     "name": "stdout",
     "output_type": "stream",
     "text": [
      "LINE: {\n",
      "LINE:     \"name\": \"Fido\",\n",
      "LINE:     \"age\": 1\n",
      "LINE: }\n"
     ]
    }
   ],
   "source": [
    "f = open(\"dog.json\")\n",
    "for line in f:\n",
    "    print(\"LINE: \" + line, end=\"\")\n",
    "f.close()\n"
   ]
  },
  {
   "cell_type": "code",
   "execution_count": 19,
   "id": "207a9052",
   "metadata": {},
   "outputs": [
    {
     "name": "stdout",
     "output_type": "stream",
     "text": [
      "GOT 4 lines\n"
     ]
    }
   ],
   "source": [
    "f = open(\"dog.json\")\n",
    "lines = list(f)\n",
    "f.close()\n",
    "\n",
    "print(\"GOT\", len(lines), \"lines\")\n"
   ]
  },
  {
   "cell_type": "code",
   "execution_count": 20,
   "id": "d64f14fa",
   "metadata": {},
   "outputs": [],
   "source": [
    "f = open(\"dog.json\")\n",
    "lines = list(f)\n",
    "f.close()"
   ]
  },
  {
   "cell_type": "code",
   "execution_count": 21,
   "id": "6219441e",
   "metadata": {},
   "outputs": [],
   "source": [
    "with open(\"dog.json\") as f:\n",
    "    lines = list(f)\n",
    "# f is automatically closed after the with block\n"
   ]
  },
  {
   "cell_type": "code",
   "execution_count": null,
   "id": "6a75f7f7",
   "metadata": {},
   "outputs": [],
   "source": []
  }
 ],
 "metadata": {
  "kernelspec": {
   "display_name": "Python 3 (ipykernel)",
   "language": "python",
   "name": "python3"
  },
  "language_info": {
   "codemirror_mode": {
    "name": "ipython",
    "version": 3
   },
   "file_extension": ".py",
   "mimetype": "text/x-python",
   "name": "python",
   "nbconvert_exporter": "python",
   "pygments_lexer": "ipython3",
   "version": "3.8.10"
  }
 },
 "nbformat": 4,
 "nbformat_minor": 5
}
