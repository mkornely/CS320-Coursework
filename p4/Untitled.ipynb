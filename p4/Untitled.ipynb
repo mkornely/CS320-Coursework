{
 "cells": [
  {
   "cell_type": "code",
   "execution_count": 1,
   "id": "16706d95",
   "metadata": {},
   "outputs": [],
   "source": [
    "import pandas as pd \n",
    "    \n",
    "# making dataframe \n",
    "df = pd.read_csv(\"main.csv\") "
   ]
  },
  {
   "cell_type": "code",
   "execution_count": 2,
   "id": "3f159ef5",
   "metadata": {},
   "outputs": [
    {
     "data": {
      "text/plain": [
       "'<div>\\n<style scoped>\\n    .dataframe tbody tr th:only-of-type {\\n        vertical-align: middle;\\n    }\\n\\n    .dataframe tbody tr th {\\n        vertical-align: top;\\n    }\\n\\n    .dataframe thead th {\\n        text-align: right;\\n    }\\n</style>\\n<table border=\"1\" class=\"dataframe\">\\n  <thead>\\n    <tr style=\"text-align: right;\">\\n      <th></th>\\n      <th>Rank</th>\\n      <th>Team/NOC</th>\\n      <th>Gold</th>\\n      <th>Silver</th>\\n      <th>Bronze</th>\\n      <th>Total</th>\\n      <th>Rank by Total</th>\\n    </tr>\\n  </thead>\\n  <tbody>\\n    <tr>\\n      <th>0</th>\\n      <td>1</td>\\n      <td>United States of America</td>\\n      <td>39</td>\\n      <td>41</td>\\n      <td>33</td>\\n      <td>113</td>\\n      <td>1</td>\\n    </tr>\\n    <tr>\\n      <th>1</th>\\n      <td>2</td>\\n      <td>People\\'s Republic of China</td>\\n      <td>38</td>\\n      <td>32</td>\\n      <td>18</td>\\n      <td>88</td>\\n      <td>2</td>\\n    </tr>\\n    <tr>\\n      <th>2</th>\\n      <td>3</td>\\n      <td>Japan</td>\\n      <td>27</td>\\n      <td>14</td>\\n      <td>17</td>\\n      <td>58</td>\\n      <td>5</td>\\n    </tr>\\n    <tr>\\n      <th>3</th>\\n      <td>4</td>\\n      <td>Great Britain</td>\\n      <td>22</td>\\n      <td>21</td>\\n      <td>22</td>\\n      <td>65</td>\\n      <td>4</td>\\n    </tr>\\n    <tr>\\n      <th>4</th>\\n      <td>5</td>\\n      <td>ROC</td>\\n      <td>20</td>\\n      <td>28</td>\\n      <td>23</td>\\n      <td>71</td>\\n      <td>3</td>\\n    </tr>\\n    <tr>\\n      <th>...</th>\\n      <td>...</td>\\n      <td>...</td>\\n      <td>...</td>\\n      <td>...</td>\\n      <td>...</td>\\n      <td>...</td>\\n      <td>...</td>\\n    </tr>\\n    <tr>\\n      <th>88</th>\\n      <td>86</td>\\n      <td>Ghana</td>\\n      <td>0</td>\\n      <td>0</td>\\n      <td>1</td>\\n      <td>1</td>\\n      <td>77</td>\\n    </tr>\\n    <tr>\\n      <th>89</th>\\n      <td>86</td>\\n      <td>Grenada</td>\\n      <td>0</td>\\n      <td>0</td>\\n      <td>1</td>\\n      <td>1</td>\\n      <td>77</td>\\n    </tr>\\n    <tr>\\n      <th>90</th>\\n      <td>86</td>\\n      <td>Kuwait</td>\\n      <td>0</td>\\n      <td>0</td>\\n      <td>1</td>\\n      <td>1</td>\\n      <td>77</td>\\n    </tr>\\n    <tr>\\n      <th>91</th>\\n      <td>86</td>\\n      <td>Republic of Moldova</td>\\n      <td>0</td>\\n      <td>0</td>\\n      <td>1</td>\\n      <td>1</td>\\n      <td>77</td>\\n    </tr>\\n    <tr>\\n      <th>92</th>\\n      <td>86</td>\\n      <td>Syrian Arab Republic</td>\\n      <td>0</td>\\n      <td>0</td>\\n      <td>1</td>\\n      <td>1</td>\\n      <td>77</td>\\n    </tr>\\n  </tbody>\\n</table>\\n<p>93 rows × 7 columns</p>\\n</div>'"
      ]
     },
     "execution_count": 2,
     "metadata": {},
     "output_type": "execute_result"
    }
   ],
   "source": [
    "df._repr_html_()"
   ]
  },
  {
   "cell_type": "code",
   "execution_count": 12,
   "id": "b89b995d",
   "metadata": {},
   "outputs": [
    {
     "name": "stdout",
     "output_type": "stream",
     "text": [
      "<re.Match object; span=(0, 17), match='mkornely@wisc.edu'>\n"
     ]
    }
   ],
   "source": [
    "import re\n",
    "email=\"mkornely@wisc.edu\"\n",
    "print(re.match(r\"\\w+@{1}\\w+\\.{1}\\w+\", email))"
   ]
  },
  {
   "cell_type": "code",
   "execution_count": 13,
   "id": "dfc6ded3",
   "metadata": {},
   "outputs": [],
   "source": [
    "i=1\n",
    "i+=1"
   ]
  },
  {
   "cell_type": "code",
   "execution_count": 16,
   "id": "f5d989a9",
   "metadata": {},
   "outputs": [
    {
     "data": {
      "text/plain": [
       "True"
      ]
     },
     "execution_count": 16,
     "metadata": {},
     "output_type": "execute_result"
    }
   ],
   "source": [
    "from urllib.robotparser import RobotFileParser\n",
    "r = RobotFileParser(\"http://34.122.10.52:5000/\")\n",
    "r.read()\n",
    "r.can_fetch(\"hungrycaterpillar\", \"http://VM_IP:5000/browse.html\")"
   ]
  },
  {
   "cell_type": "code",
   "execution_count": 19,
   "id": "3f377f4c",
   "metadata": {},
   "outputs": [],
   "source": [
    "import matplotlib.pyplot as plt\n"
   ]
  },
  {
   "cell_type": "code",
   "execution_count": 28,
   "id": "6a3d895a",
   "metadata": {},
   "outputs": [
    {
     "data": {
      "text/plain": [
       "<AxesSubplot:>"
      ]
     },
     "execution_count": 28,
     "metadata": {},
     "output_type": "execute_result"
    },
    {
     "data": {
      "image/png": "[encoded data removed]",
      "text/plain": [
       "<Figure size 432x288 with 1 Axes>"
      ]
     },
     "metadata": {
      "needs_background": "light"
     },
     "output_type": "display_data"
    }
   ],
   "source": [
    "dataframe=pd.read_csv(\"main.csv\")\n",
    "dataframe[\"Development Regions\"].value_counts().plot(kind='bar')"
   ]
  },
  {
   "cell_type": "code",
   "execution_count": null,
   "id": "a53be9a2",
   "metadata": {},
   "outputs": [],
   "source": []
  }
 ],
 "metadata": {
  "kernelspec": {
   "display_name": "Python 3 (ipykernel)",
   "language": "python",
   "name": "python3"
  },
  "language_info": {
   "codemirror_mode": {
    "name": "ipython",
    "version": 3
   },
   "file_extension": ".py",
   "mimetype": "text/x-python",
   "name": "python",
   "nbconvert_exporter": "python",
   "pygments_lexer": "ipython3",
   "version": "3.8.10"
  }
 },
 "nbformat": 4,
 "nbformat_minor": 5
}
