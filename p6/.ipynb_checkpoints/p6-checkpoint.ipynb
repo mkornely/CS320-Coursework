{
 "cells": [
  {
   "cell_type": "code",
   "execution_count": 1,
   "id": "78e20cf7",
   "metadata": {},
   "outputs": [],
   "source": [
    "# project: p6\n",
    "# submitter: mkornely\n",
    "# partner: none\n",
    "# hours: 7\n"
   ]
  },
  {
   "cell_type": "code",
   "execution_count": 2,
   "id": "26a77a5d",
   "metadata": {},
   "outputs": [
    {
     "data": {
      "text/plain": [
       "72"
      ]
     },
     "execution_count": 2,
     "metadata": {},
     "output_type": "execute_result"
    }
   ],
   "source": [
    "#q1\n",
    "import geopandas as gpd\n",
    "import pandas as pd\n",
    "pd.set_option(\"display.max_rows\", None, \"display.max_columns\", None)\n",
    "\n",
    "wisconsin_counties=gpd.read_file(\"counties.geojson\")\n",
    "len(wisconsin_counties)\n"
   ]
  },
  {
   "cell_type": "code",
   "execution_count": 3,
   "id": "67d3c245",
   "metadata": {},
   "outputs": [
    {
     "data": {
      "text/plain": [
       "<AxesSubplot:>"
      ]
     },
     "execution_count": 3,
     "metadata": {},
     "output_type": "execute_result"
    },
    {
     "data": {
      "image/png": "[encoded data removed]",
      "text/plain": [
       "<Figure size 432x288 with 2 Axes>"
      ]
     },
     "metadata": {
      "needs_background": "light"
     },
     "output_type": "display_data"
    }
   ],
   "source": [
    "#q2\n",
    "wisconsin_counties.plot(column='POP100',cmap=\"viridis\",legend=True)"
   ]
  },
  {
   "cell_type": "code",
   "execution_count": 4,
   "id": "ef7555ff",
   "metadata": {},
   "outputs": [],
   "source": [
    "import sqlite3\n",
    "conn = sqlite3.connect('counties_tracts.db')\n",
    "df=pd.read_sql(\"\"\"SELECT AREALAND, NAME FROM counties\"\"\", conn)\n",
    "\n",
    "wisconsin_counties[\"AREALAND\"]= df[\"AREALAND\"]\n"
   ]
  },
  {
   "cell_type": "code",
   "execution_count": 5,
   "id": "6941d6e0",
   "metadata": {},
   "outputs": [
    {
     "data": {
      "text/plain": [
       "['Kewaunee County',\n",
       " 'Calumet County',\n",
       " 'Adams County',\n",
       " 'Eau Claire County',\n",
       " 'Milwaukee County',\n",
       " 'Ashland County',\n",
       " 'Wood County',\n",
       " 'Dodge County',\n",
       " 'Sauk County',\n",
       " 'Clark County',\n",
       " 'Pepin County',\n",
       " 'Taylor County',\n",
       " 'Iron County',\n",
       " 'Outagamie County',\n",
       " 'Florence County',\n",
       " 'Oneida County',\n",
       " 'Pierce County',\n",
       " 'Grant County']"
      ]
     },
     "execution_count": 5,
     "metadata": {},
     "output_type": "execute_result"
    }
   ],
   "source": [
    "#q3\n",
    "from sklearn.model_selection import train_test_split\n",
    "train,test= train_test_split(wisconsin_counties,random_state=320)\n",
    "test.sort_index()\n",
    "\n",
    "list(test['NAME'])"
   ]
  },
  {
   "cell_type": "code",
   "execution_count": 6,
   "id": "2a29e55a",
   "metadata": {},
   "outputs": [
    {
     "data": {
      "text/plain": [
       "0.022002661530554857"
      ]
     },
     "execution_count": 6,
     "metadata": {},
     "output_type": "execute_result"
    }
   ],
   "source": [
    "#q4\n",
    "from sklearn.linear_model import LinearRegression\n",
    "from sklearn.model_selection import train_test_split, cross_val_score\n",
    "\n",
    "\n",
    "model = LinearRegression()\n",
    "\n",
    "model.fit(train[[\"AREALAND\"]], train[[\"POP100\"]])\n",
    "model.score(test[[\"AREALAND\"]], test[[\"POP100\"]])\n"
   ]
  },
  {
   "cell_type": "code",
   "execution_count": 7,
   "id": "af7396a9",
   "metadata": {},
   "outputs": [
    {
     "data": {
      "text/plain": [
       "82032.53073541154"
      ]
     },
     "execution_count": 7,
     "metadata": {},
     "output_type": "execute_result"
    }
   ],
   "source": [
    "#q5\n",
    "square_meters=500*2.59e6\n",
    "\n",
    "slope = model. coef_[0]\n",
    "intercept = model. intercept_[0]\n",
    "\n",
    "(slope*square_meters+intercept)[0]"
   ]
  },
  {
   "cell_type": "code",
   "execution_count": 8,
   "id": "199c9a5e",
   "metadata": {},
   "outputs": [],
   "source": [
    "df=pd.read_sql(\"\"\"\n",
    "SELECT tracts.COUNTY,SUM(HU100) as HU100,counties.NAME FROM tracts\n",
    "INNER JOIN counties \n",
    "ON tracts.COUNTY=counties.COUNTY\n",
    "GROUP BY tracts.COUNTY\n",
    "\"\"\",conn)\n",
    "\n"
   ]
  },
  {
   "cell_type": "code",
   "execution_count": 9,
   "id": "64ac469c",
   "metadata": {},
   "outputs": [
    {
     "data": {
      "text/plain": [
       "{'Walworth County': 51531,\n",
       " 'Marquette County': 9896,\n",
       " 'Racine County': 82164,\n",
       " 'Waupaca County': 25396,\n",
       " 'Lincoln County': 16784,\n",
       " 'Washburn County': 12979,\n",
       " 'Door County': 23966,\n",
       " 'Waukesha County': 160864,\n",
       " 'Sheboygan County': 50766,\n",
       " 'La Crosse County': 48402,\n",
       " 'Langlade County': 12360,\n",
       " 'Marathon County': 57734,\n",
       " 'Jefferson County': 35147,\n",
       " 'Price County': 11120,\n",
       " 'Vilas County': 25116,\n",
       " 'Columbia County': 26137,\n",
       " 'Ozaukee County': 36267,\n",
       " 'Fond du Lac County': 43910,\n",
       " 'Crawford County': 8802,\n",
       " 'Lafayette County': 7230,\n",
       " 'Green County': 15856,\n",
       " 'Marinette County': 30379,\n",
       " 'Vernon County': 13720,\n",
       " 'Douglas County': 22825,\n",
       " 'Rock County': 68422,\n",
       " 'Iowa County': 10719,\n",
       " 'Dane County': 216022,\n",
       " 'Bayfield County': 12999,\n",
       " 'Polk County': 24248,\n",
       " 'Trempealeau County': 12619,\n",
       " 'Brown County': 104371,\n",
       " 'Washington County': 54695,\n",
       " 'Chippewa County': 27185,\n",
       " 'Oconto County': 23537,\n",
       " 'Richland County': 8868,\n",
       " 'Portage County': 30054,\n",
       " 'Sawyer County': 15975,\n",
       " 'Menominee County': 2253,\n",
       " 'Barron County': 23614,\n",
       " 'Shawano County': 20720,\n",
       " 'Winnebago County': 73329,\n",
       " 'Rusk County': 8883,\n",
       " 'Manitowoc County': 37189,\n",
       " 'Dunn County': 17964,\n",
       " 'Monroe County': 19204,\n",
       " 'Waushara County': 14843,\n",
       " 'Forest County': 8970,\n",
       " 'Green Lake County': 10616,\n",
       " 'Juneau County': 14669,\n",
       " 'St. Croix County': 33983,\n",
       " 'Buffalo County': 6664,\n",
       " 'Kenosha County': 69288,\n",
       " 'Jackson County': 9727,\n",
       " 'Burnett County': 15278}"
      ]
     },
     "execution_count": 9,
     "metadata": {},
     "output_type": "execute_result"
    }
   ],
   "source": [
    "#q6\n",
    "counties_2=pd.merge(wisconsin_counties,df, on=\"NAME\")\n",
    "train,test= train_test_split(counties_2,random_state=320)\n",
    "\n",
    "\n",
    "pd.Series(train[\"HU100\"].values,index=train[\"NAME\"]).to_dict()"
   ]
  },
  {
   "cell_type": "code",
   "execution_count": 10,
   "id": "0e90b2eb",
   "metadata": {},
   "outputs": [
    {
     "data": {
      "text/plain": [
       "0.9652534544116037"
      ]
     },
     "execution_count": 10,
     "metadata": {},
     "output_type": "execute_result"
    }
   ],
   "source": [
    "#q7\n",
    "model = LinearRegression()\n",
    "model.fit(train[[\"HU100\"]], train[[\"POP100\"]])\n",
    "scores=cross_val_score(model,train[[\"HU100\"]], train[[\"POP100\"]])\n",
    "scores.mean()"
   ]
  },
  {
   "cell_type": "code",
   "execution_count": 11,
   "id": "2e8a179f",
   "metadata": {},
   "outputs": [
    {
     "data": {
      "text/plain": [
       "0.03704265206670459"
      ]
     },
     "execution_count": 11,
     "metadata": {},
     "output_type": "execute_result"
    }
   ],
   "source": [
    "#q8\n",
    "scores.std()"
   ]
  },
  {
   "cell_type": "code",
   "execution_count": 12,
   "id": "4870c8e3",
   "metadata": {},
   "outputs": [
    {
     "data": {
      "text/plain": [
       "'POP100 = 2.39*HU100 + -7910.46'"
      ]
     },
     "execution_count": 12,
     "metadata": {},
     "output_type": "execute_result"
    }
   ],
   "source": [
    "#q9\n",
    "slope = model. coef_[0]\n",
    "intercept = model. intercept_[0]\n",
    "\n",
    "\"POP100 = 2.39*HU100 + -7910.46\""
   ]
  },
  {
   "cell_type": "code",
   "execution_count": 13,
   "id": "e99991ec",
   "metadata": {},
   "outputs": [
    {
     "data": {
      "text/plain": [
       "Text(59    216022\n",
       "Name: HU100, dtype: int64, 59    488073\n",
       "Name: POP100, dtype: int64, 'Dane')"
      ]
     },
     "execution_count": 13,
     "metadata": {},
     "output_type": "execute_result"
    },
    {
     "data": {
      "image/png": "[encoded data removed]",
      "text/plain": [
       "<Figure size 432x288 with 1 Axes>"
      ]
     },
     "metadata": {
      "needs_background": "light"
     },
     "output_type": "display_data"
    }
   ],
   "source": [
    "#q10\n",
    "counties_2[\"prediction\"]=model.predict(counties_2[[\"HU100\"]])\n",
    "ax = counties_2.plot.line(x=\"HU100\", y=\"prediction\", color=\"red\")\n",
    "\n",
    "\n",
    "plt=counties_2.plot.scatter(x=\"HU100\", y=\"POP100\", ax=ax, color=\"black\")\n",
    "plt.text(x=counties_2[counties_2[\"NAME\"]==\"Dane County\"][\"HU100\"],y=counties_2[counties_2[\"NAME\"]==\"Dane County\"][\"POP100\"],s=\"Dane\")\n",
    "\n"
   ]
  },
  {
   "cell_type": "code",
   "execution_count": 14,
   "id": "2d185bf6",
   "metadata": {},
   "outputs": [
    {
     "data": {
      "text/plain": [
       "12"
      ]
     },
     "execution_count": 14,
     "metadata": {},
     "output_type": "execute_result"
    }
   ],
   "source": [
    "#q11\n",
    "import numpy as np\n",
    "\n",
    "A = np.array([\n",
    "    [0,0,5,8,4],\n",
    "    [1,2,4,0,3],\n",
    "    [2,4,0,9,2],\n",
    "    [3,5,2,1,1],\n",
    "    [0,5,0,1,0]\n",
    "])\n",
    "\n",
    "counter=0\n",
    "for row in A:\n",
    "    for col in row:\n",
    "        if(col>=2 and col<=5):\n",
    "            counter+=1\n",
    "counter\n",
    "\n"
   ]
  },
  {
   "cell_type": "code",
   "execution_count": 15,
   "id": "835b4084",
   "metadata": {},
   "outputs": [
    {
     "data": {
      "text/plain": [
       "<matplotlib.image.AxesImage at 0x7f151eec6d00>"
      ]
     },
     "execution_count": 15,
     "metadata": {},
     "output_type": "execute_result"
    },
    {
     "data": {
      "image/png": "[encoded data removed]",
      "text/plain": [
       "<Figure size 864x864 with 1 Axes>"
      ]
     },
     "metadata": {
      "needs_background": "light"
     },
     "output_type": "display_data"
    }
   ],
   "source": [
    "#q12\n",
    "import rasterio\n",
    "land = rasterio.open(\"zip://land.zip!wi.tif\")\n",
    "\n",
    "import geopandas as gpd\n",
    "url = \"https://tigerweb.geo.census.gov/arcgis/rest/services/TIGERweb/tigerWMS_Census2020/MapServer/82/query?where=NAME%3D%27Milwaukee+County%27&text=&objectIds=&time=&geometry=&geometryType=esriGeometryEnvelope&inSR=&spatialRel=esriSpatialRelIntersects&distance=&units=esriSRUnit_Foot&relationParam=&outFields=&returnGeometry=true&returnTrueCurves=false&maxAllowableOffset=&geometryPrecision=&outSR=&havingClause=&returnIdsOnly=false&returnCountOnly=false&orderByFields=&groupByFieldsForStatistics=&outStatistics=&returnZ=false&returnM=false&gdbVersion=&historicMoment=&returnDistinctValues=false&resultOffset=&resultRecordCount=&returnExtentOnly=false&datumTransformation=&parameterValues=&rangeValues=&quantizationParameters=&featureEncoding=esriDefault&f=geojson\"\n",
    "millwaukee = gpd.read_file(url)\n",
    "\n",
    "from rasterio.mask import mask\n",
    "matrix, _ = mask(land, millwaukee.to_crs(land.crs)[\"geometry\"], crop=True)\n",
    "matrix = matrix[0]\n",
    "\n",
    "\n",
    "from matplotlib.colors import ListedColormap\n",
    "\n",
    "c = np.zeros((256,3))\n",
    "c[0] = [0.00000000000, 0.00000000000, 0.00000000000]\n",
    "c[11] = [0.27843137255, 0.41960784314, 0.62745098039]\n",
    "c[12] = [0.81960784314, 0.86666666667, 0.97647058824]\n",
    "c[21] = [0.86666666667, 0.78823529412, 0.78823529412]\n",
    "c[22] = [0.84705882353, 0.57647058824, 0.50980392157]\n",
    "c[23] = [0.92941176471, 0.00000000000, 0.00000000000]\n",
    "c[24] = [0.66666666667, 0.00000000000, 0.00000000000]\n",
    "c[31] = [0.69803921569, 0.67843137255, 0.63921568628]\n",
    "c[41] = [0.40784313726, 0.66666666667, 0.38823529412]\n",
    "c[42] = [0.10980392157, 0.38823529412, 0.18823529412]\n",
    "c[43] = [0.70980392157, 0.78823529412, 0.55686274510]\n",
    "c[51] = [0.64705882353, 0.54901960784, 0.18823529412]\n",
    "c[52] = [0.80000000000, 0.72941176471, 0.48627450980]\n",
    "c[71] = [0.88627450980, 0.88627450980, 0.75686274510]\n",
    "c[72] = [0.78823529412, 0.78823529412, 0.46666666667]\n",
    "c[73] = [0.60000000000, 0.75686274510, 0.27843137255]\n",
    "c[74] = [0.46666666667, 0.67843137255, 0.57647058824]\n",
    "c[81] = [0.85882352941, 0.84705882353, 0.23921568628]\n",
    "c[82] = [0.66666666667, 0.43921568628, 0.15686274510]\n",
    "c[90] = [0.72941176471, 0.84705882353, 0.91764705882]\n",
    "c[95] = [0.43921568628, 0.63921568628, 0.72941176471]\n",
    "custom_cmap = ListedColormap(c)\n",
    "\n",
    "\n",
    "import matplotlib.pyplot as plt\n",
    "fig, ax = plt.subplots(figsize=(12,12))\n",
    "ax.imshow(matrix, vmin=0, vmax=255, cmap=custom_cmap)\n",
    "\n",
    "\n"
   ]
  },
  {
   "cell_type": "code",
   "execution_count": 16,
   "id": "e10d0420",
   "metadata": {},
   "outputs": [
    {
     "data": {
      "text/plain": [
       "0.7963037455950543"
      ]
     },
     "execution_count": 16,
     "metadata": {},
     "output_type": "execute_result"
    }
   ],
   "source": [
    "#q13\n",
    "(matrix == 11).sum()/(matrix != 0).sum()"
   ]
  },
  {
   "cell_type": "code",
   "execution_count": 17,
   "id": "21dc9684",
   "metadata": {},
   "outputs": [],
   "source": [
    "\n",
    "dataset_3 = gpd.read_file(\"counties.geojson\")\n",
    "\n",
    "dataset_3\n",
    "\n",
    "dataset_3[\"developed_open\"]=0\n",
    "dataset_3[\"developed_low\"]=0\n",
    "dataset_3[\"developed_med\"]=0\n",
    "dataset_3[\"developed_high\"]=0\n",
    "\n",
    "\n",
    "\n",
    "for i in range(len(dataset_3)):\n",
    "    masked_df=dataset_3.loc[[i]]\n",
    "    matrix, _ = mask(land,masked_df.to_crs(land.crs)[\"geometry\"], crop=True)\n",
    "    matrix_current = matrix[0]    \n",
    "    \n",
    "    openspace=(matrix_current == 21).sum()\n",
    "    low=(matrix_current == 22).sum()\n",
    "    medium=(matrix_current == 23).sum()\n",
    "    high=(matrix_current == 24).sum()\n",
    "\n",
    "    dataset_3.at[i,\"developed_open\"]=openspace\n",
    "    dataset_3.at[i,\"developed_low\"]=low\n",
    "    dataset_3.at[i,\"developed_med\"]=medium\n",
    "    dataset_3.at[i,\"developed_high\"]=high\n",
    "\n",
    "\n",
    "\n",
    "\n",
    "dataset_3.set_index(dataset_3[\"NAME\"], inplace=True)\n",
    "dataset_3=dataset_3.drop(columns=['NAME'])\n",
    "dataset_3=dataset_3.drop(columns=['geometry'])\n",
    "\n",
    "\n",
    "\n",
    "    \n",
    "    "
   ]
  },
  {
   "cell_type": "code",
   "execution_count": 18,
   "id": "3be95637",
   "metadata": {},
   "outputs": [
    {
     "data": {
      "text/plain": [
       "{'developed_open': {'Walworth County': 91733,\n",
       "  'Marquette County': 43703,\n",
       "  'Racine County': 54221},\n",
       " 'developed_low': {'Walworth County': 86417,\n",
       "  'Marquette County': 27193,\n",
       "  'Racine County': 83597},\n",
       " 'developed_med': {'Walworth County': 25760,\n",
       "  'Marquette County': 4541,\n",
       "  'Racine County': 59855},\n",
       " 'developed_high': {'Walworth County': 8235,\n",
       "  'Marquette County': 665,\n",
       "  'Racine County': 23884},\n",
       " 'POP100': {'Walworth County': 102228,\n",
       "  'Marquette County': 15404,\n",
       "  'Racine County': 195408}}"
      ]
     },
     "execution_count": 18,
     "metadata": {},
     "output_type": "execute_result"
    }
   ],
   "source": [
    "#q14\n",
    "cols = dataset_3.columns.tolist()\n",
    "cols = cols[1:] + cols[:1]\n",
    "dataset_3=dataset_3[cols]\n",
    "train,test= train_test_split(dataset_3,random_state=320)\n",
    "\n",
    "train.iloc[:3].to_dict()\n"
   ]
  },
  {
   "cell_type": "code",
   "execution_count": 19,
   "id": "7cd7d09b",
   "metadata": {},
   "outputs": [
    {
     "data": {
      "text/plain": [
       "<AxesSubplot:xlabel='developed_high', ylabel='POP100'>"
      ]
     },
     "execution_count": 19,
     "metadata": {},
     "output_type": "execute_result"
    },
    {
     "data": {
      "image/png": "[encoded data removed]",
      "text/plain": [
       "<Figure size 432x288 with 1 Axes>"
      ]
     },
     "metadata": {
      "needs_background": "light"
     },
     "output_type": "display_data"
    }
   ],
   "source": [
    "#q15\n",
    "dataset_3.plot.scatter(x=\"developed_high\", y=\"POP100\", color=\"black\")"
   ]
  },
  {
   "cell_type": "markdown",
   "id": "4366597a",
   "metadata": {},
   "source": [
    "Relationship looks approx. linear "
   ]
  },
  {
   "cell_type": "code",
   "execution_count": 20,
   "id": "acc61497",
   "metadata": {},
   "outputs": [
    {
     "data": {
      "text/plain": [
       "(0.9181286409212671, 0.6490702789460191)"
      ]
     },
     "execution_count": 20,
     "metadata": {},
     "output_type": "execute_result"
    }
   ],
   "source": [
    "#q16\n",
    "from sklearn.preprocessing import PolynomialFeatures\n",
    "from sklearn.pipeline import Pipeline\n",
    "\n",
    "\n",
    "x_cols3= [\"developed_open\", \"developed_low\",\"developed_med\",\"developed_high\"]\n",
    "m_linear = LinearRegression()\n",
    "scores3_l = cross_val_score(m_linear, train[x_cols3], train[\"POP100\"], cv=5)\n",
    "linear_mean=scores3_l.mean()\n",
    "\n",
    "m = Pipeline([\n",
    "    (\"poly\", PolynomialFeatures(degree=2, include_bias=False)),\n",
    "    (\"lr\", LinearRegression())\n",
    "])\n",
    "\n",
    "scores3_p = cross_val_score(m, train[x_cols3], train[\"POP100\"], cv=5)\n",
    "polynomial_mean=scores3_p.mean()\n",
    "\n",
    "return_tuple=(linear_mean,polynomial_mean)\n",
    "return_tuple"
   ]
  },
  {
   "cell_type": "code",
   "execution_count": 21,
   "id": "b88ac82b",
   "metadata": {},
   "outputs": [
    {
     "data": {
      "text/plain": [
       "Text(0, 0.5, 'Average Explained Variance')"
      ]
     },
     "execution_count": 21,
     "metadata": {},
     "output_type": "execute_result"
    },
    {
     "data": {
      "image/png": "[encoded data removed]",
      "text/plain": [
       "<Figure size 432x288 with 1 Axes>"
      ]
     },
     "metadata": {
      "needs_background": "light"
     },
     "output_type": "display_data"
    }
   ],
   "source": [
    "#q17\n",
    "compare = pd.DataFrame({\n",
    "    \"scores\": {\"Linear\": scores3_l.mean(), \"Polynomial\": scores3_p.mean()},\n",
    "    \"std_dev\": {\"Linear\": scores3_l.std(), \"Polynomial\": scores3_p.std()}\n",
    "})\n",
    "ax = compare[\"scores\"].plot.bar(yerr=compare[\"std_dev\"])\n",
    "ax.set_ylabel(\"Average Explained Variance\")"
   ]
  },
  {
   "cell_type": "code",
   "execution_count": 22,
   "id": "5d32df3a",
   "metadata": {},
   "outputs": [
    {
     "data": {
      "text/plain": [
       "Text(0.5, 0, 'Feature')"
      ]
     },
     "execution_count": 22,
     "metadata": {},
     "output_type": "execute_result"
    },
    {
     "data": {
      "image/png": "[encoded data removed]",
      "text/plain": [
       "<Figure size 432x288 with 1 Axes>"
      ]
     },
     "metadata": {
      "needs_background": "light"
     },
     "output_type": "display_data"
    }
   ],
   "source": [
    "#q18\n",
    "m_linear.fit(train[x_cols3], train[\"POP100\"])\n",
    "ax=pd.Series(m_linear.coef_, index=x_cols3).plot.bar()\n",
    "ax.set_ylabel(\"Weight\")\n",
    "ax.set_xlabel(\"Feature\")"
   ]
  },
  {
   "cell_type": "code",
   "execution_count": 23,
   "id": "cac2871d",
   "metadata": {},
   "outputs": [
    {
     "data": {
      "text/plain": [
       "{'developed_open': -0.10421547981954869,\n",
       " 'developed_low': 1.2925525095848176,\n",
       " 'developed_med': -4.959212819522501,\n",
       " 'developed_high': 13.195644532447844,\n",
       " 'developed_open^2': 1.8580256379019389e-06,\n",
       " 'developed_open developed_low': -1.9531480201062656e-05,\n",
       " 'developed_open developed_med': 8.182470913425943e-05,\n",
       " 'developed_open developed_high': -0.00010695600475867095,\n",
       " 'developed_low^2': 3.5293004807535056e-05,\n",
       " 'developed_low developed_med': -0.0002326425087280648,\n",
       " 'developed_low developed_high': 0.00025876108520569985,\n",
       " 'developed_med^2': 0.0005602988332727987,\n",
       " 'developed_med developed_high': -0.0017321013682364689,\n",
       " 'developed_high^2': 0.001572181162921871}"
      ]
     },
     "execution_count": 23,
     "metadata": {},
     "output_type": "execute_result"
    }
   ],
   "source": [
    "#q19\n",
    "m.fit(train[x_cols3], train[\"POP100\"])\n",
    "dict(zip(m[:-1].get_feature_names_out(),m[\"lr\"].coef_))"
   ]
  },
  {
   "cell_type": "code",
   "execution_count": 24,
   "id": "acb0e65b",
   "metadata": {},
   "outputs": [
    {
     "data": {
      "text/plain": [
       "0.8659776114700685"
      ]
     },
     "execution_count": 24,
     "metadata": {},
     "output_type": "execute_result"
    }
   ],
   "source": [
    "#q20\n",
    "m_linear.score(test[x_cols3], test[\"POP100\"])\n",
    "#m.score(dataset_3[x_cols3], dataset_3[\"POP100\"])\n"
   ]
  }
 ],
 "metadata": {
  "kernelspec": {
   "display_name": "Python 3 (ipykernel)",
   "language": "python",
   "name": "python3"
  },
  "language_info": {
   "codemirror_mode": {
    "name": "ipython",
    "version": 3
   },
   "file_extension": ".py",
   "mimetype": "text/x-python",
   "name": "python",
   "nbconvert_exporter": "python",
   "pygments_lexer": "ipython3",
   "version": "3.8.10"
  }
 },
 "nbformat": 4,
 "nbformat_minor": 5
}
