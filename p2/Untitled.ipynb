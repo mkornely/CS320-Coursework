{
 "cells": [
  {
   "cell_type": "code",
   "execution_count": 35,
   "id": "819d1541",
   "metadata": {},
   "outputs": [
    {
     "name": "stdout",
     "output_type": "stream",
     "text": [
      "The autoreload extension is already loaded. To reload it, use:\n",
      "  %reload_ext autoreload\n"
     ]
    }
   ],
   "source": [
    "\n",
    "from tree import *\n",
    "%load_ext autoreload\n",
    "%autoreload 2"
   ]
  },
  {
   "cell_type": "code",
   "execution_count": null,
   "id": "d9b64f3a",
   "metadata": {},
   "outputs": [],
   "source": []
  },
  {
   "cell_type": "code",
   "execution_count": null,
   "id": "cedbfa8d",
   "metadata": {},
   "outputs": [],
   "source": []
  },
  {
   "cell_type": "code",
   "execution_count": null,
   "id": "67212be6",
   "metadata": {},
   "outputs": [],
   "source": []
  },
  {
   "cell_type": "code",
   "execution_count": null,
   "id": "d10a0ead",
   "metadata": {},
   "outputs": [],
   "source": []
  },
  {
   "cell_type": "code",
   "execution_count": 2,
   "id": "3237d992",
   "metadata": {},
   "outputs": [],
   "source": [
    "#dict_list = list(data_reader.rows(\"wi.csv\"))\n",
    "#print(dict_list[0])\n",
    "#print()"
   ]
  },
  {
   "cell_type": "code",
   "execution_count": 36,
   "id": "b8e81dbd",
   "metadata": {},
   "outputs": [
    {
     "name": "stdout",
     "output_type": "stream",
     "text": [
      "['il.csv', 'la.csv', 'wi.csv']\n"
     ]
    }
   ],
   "source": [
    "data_reader = ZippedCSVReader(\"mini.zip\")\n",
    "print(data_reader.paths)"
   ]
  },
  {
   "cell_type": "code",
   "execution_count": 37,
   "id": "a94f1a59",
   "metadata": {},
   "outputs": [
    {
     "name": "stdout",
     "output_type": "stream",
     "text": [
      "{'as_of_year': '2017', 'respondent_id': '33-0975529', 'agency_name': 'Department of Housing and Urban Development', 'agency_abbr': 'HUD', 'agency_code': '7', 'loan_type_name': 'VA-guaranteed', 'loan_type': '3', 'property_type_name': 'One-to-four family dwelling (other than manufactured housing)', 'property_type': '1', 'loan_purpose_name': 'Refinancing', 'loan_purpose': '3', 'owner_occupancy_name': 'Owner-occupied as a principal dwelling', 'owner_occupancy': '1', 'loan_amount_000s': '165', 'preapproval_name': 'Not applicable', 'preapproval': '3', 'action_taken_name': 'Loan originated', 'action_taken': '1', 'state_name': 'Wisconsin', 'state_abbr': 'WI', 'state_code': '55', 'county_name': 'Outagamie County', 'county_code': '87.0', 'applicant_ethnicity_name': 'Not Hispanic or Latino', 'applicant_ethnicity': '2', 'co_applicant_ethnicity_name': 'Not Hispanic or Latino', 'co_applicant_ethnicity': '2', 'applicant_race_name_1': 'White', 'applicant_race_1': '5', 'applicant_race_name_2': '', 'applicant_race_2': '', 'applicant_race_name_3': '', 'applicant_race_3': '', 'co_applicant_race_name_1': 'White', 'co_applicant_race_1': '5', 'co_applicant_race_name_2': '', 'co_applicant_race_2': '', 'applicant_sex_name': 'Male', 'applicant_sex': '1', 'co_applicant_sex_name': 'Female', 'co_applicant_sex': '2', 'applicant_income_000s': '57', 'purchaser_type_name': 'Life insurance company, credit union, mortgage bank, or finance company', 'purchaser_type': '7', 'denial_reason_name_1': '', 'denial_reason_1': '', 'denial_reason_name_2': '', 'denial_reason_2': '', 'population': '5765.0', 'minority_population': '24', 'hud_median_family_income': '74700'}\n",
      "\n"
     ]
    }
   ],
   "source": [
    "dict_list = list(data_reader.rows(\"wi.csv\"))\n",
    "print(dict_list[0])\n",
    "print()\n",
    "\n"
   ]
  },
  {
   "cell_type": "code",
   "execution_count": 38,
   "id": "ee881527",
   "metadata": {},
   "outputs": [
    {
     "name": "stdout",
     "output_type": "stream",
     "text": [
      "60\n"
     ]
    }
   ],
   "source": [
    "dict_generator = data_reader.rows()\n",
    "print(sum(1 for _ in dict_generator))"
   ]
  },
  {
   "cell_type": "code",
   "execution_count": 6,
   "id": "686e1339",
   "metadata": {},
   "outputs": [],
   "source": [
    "loan = Loan(40, \"Home improvement\", \"Asian\", \"Male\", 120, \"approve\")\n"
   ]
  },
  {
   "cell_type": "code",
   "execution_count": 39,
   "id": "790d5a91",
   "metadata": {},
   "outputs": [
    {
     "data": {
      "text/plain": [
       "\"Loan(204, 'Home purchase', 'White', 'Female', 71, 'approve')\""
      ]
     },
     "execution_count": 39,
     "metadata": {},
     "output_type": "execute_result"
    }
   ],
   "source": [
    "repr(loan)"
   ]
  },
  {
   "cell_type": "code",
   "execution_count": 8,
   "id": "e0235b96",
   "metadata": {},
   "outputs": [
    {
     "data": {
      "text/plain": [
       "0"
      ]
     },
     "execution_count": 8,
     "metadata": {},
     "output_type": "execute_result"
    }
   ],
   "source": [
    "loan[\"Refinance\"]"
   ]
  },
  {
   "cell_type": "code",
   "execution_count": 9,
   "id": "3d797f28",
   "metadata": {},
   "outputs": [
    {
     "data": {
      "text/plain": [
       "1"
      ]
     },
     "execution_count": 9,
     "metadata": {},
     "output_type": "execute_result"
    }
   ],
   "source": [
    "loan[\"Asian\"]"
   ]
  },
  {
   "cell_type": "code",
   "execution_count": 10,
   "id": "c7978700",
   "metadata": {},
   "outputs": [
    {
     "data": {
      "text/plain": [
       "'Home improvement'"
      ]
     },
     "execution_count": 10,
     "metadata": {},
     "output_type": "execute_result"
    }
   ],
   "source": [
    "loan[\"purpose\"]"
   ]
  },
  {
   "cell_type": "code",
   "execution_count": 11,
   "id": "00b5f830",
   "metadata": {
    "scrolled": true
   },
   "outputs": [
    {
     "name": "stdout",
     "output_type": "stream",
     "text": [
      "Loan(94, Refinancing, Information not provided by applicant in mail, Internet, or telephone application, Information not provided by applicant in mail, Internet, or telephone application, 71, deny)\n",
      "Loan(55, Home purchase, White, Male, 41, deny)\n",
      "Loan(20, Refinancing, Black or African American, Female, 41, approve)\n",
      "Loan(22, Refinancing, White, Male, 36, approve)\n",
      "Loan(175, Refinancing, White, Male, 70, approve)\n",
      "Loan(191, Home purchase, Information not provided by applicant in mail, Internet, or telephone application, Information not provided by applicant in mail, Internet, or telephone application, 68, approve)\n",
      "Loan(82, Refinancing, White, Male, 40, deny)\n"
     ]
    }
   ],
   "source": [
    "b = Bank(\"NCUA\", data_reader)\n",
    "for loan in b.loans():\n",
    "    print(loan) # loan is of type Loan"
   ]
  },
  {
   "cell_type": "code",
   "execution_count": 12,
   "id": "22a306c3",
   "metadata": {},
   "outputs": [
    {
     "name": "stdout",
     "output_type": "stream",
     "text": [
      "['CFPB', 'FDIC', 'FRS', 'HUD', 'NCUA', 'OCC']\n"
     ]
    }
   ],
   "source": [
    "reader = ZippedCSVReader('loans.zip')\n",
    "names = get_bank_names(reader) # should be sorted alphabetically\n",
    "print(names)"
   ]
  },
  {
   "cell_type": "code",
   "execution_count": null,
   "id": "f3f12608",
   "metadata": {},
   "outputs": [],
   "source": []
  },
  {
   "cell_type": "code",
   "execution_count": 13,
   "id": "c3177d68",
   "metadata": {},
   "outputs": [
    {
     "name": "stdout",
     "output_type": "stream",
     "text": [
      "income <= 50\n",
      "  class=0\n",
      "  class=1\n"
     ]
    }
   ],
   "source": [
    "leaf1 = Node(field=\"class\", threshold=0, left=None, right=None)\n",
    "leaf2 = Node(field=\"class\", threshold=1, left=None, right=None)\n",
    "root = Node(field=\"income\", threshold=50, left=leaf1, right=leaf2)\n",
    "root.dump()"
   ]
  },
  {
   "cell_type": "code",
   "execution_count": 14,
   "id": "1e7e8d7a",
   "metadata": {
    "scrolled": false
   },
   "outputs": [
    {
     "data": {
      "text/plain": [
       "[{'field': 'amount', 'threshold': '200', 'left': '1', 'right': '2'},\n",
       " {'field': 'income', 'threshold': '35', 'left': '3', 'right': '4'},\n",
       " {'field': 'income', 'threshold': '70', 'left': '5', 'right': '6'},\n",
       " {'field': 'class', 'threshold': '0', 'left': '-1', 'right': '-1'},\n",
       " {'field': 'class', 'threshold': '1', 'left': '-1', 'right': '-1'},\n",
       " {'field': 'class', 'threshold': '0', 'left': '-1', 'right': '-1'},\n",
       " {'field': 'class', 'threshold': '1', 'left': '-1', 'right': '-1'}]"
      ]
     },
     "execution_count": 14,
     "metadata": {},
     "output_type": "execute_result"
    }
   ],
   "source": [
    "tree_reader = ZippedCSVReader(\"trees.zip\")\n",
    "\n",
    "node_rows = list(tree_reader.rows(\"simple.csv\"))\n",
    "node_rows"
   ]
  },
  {
   "cell_type": "code",
   "execution_count": 15,
   "id": "9ac0ab05",
   "metadata": {},
   "outputs": [
    {
     "name": "stdout",
     "output_type": "stream",
     "text": [
      "Loan(175, Refinancing, White, Male, 70, approve) predict: True\n",
      "approved: 1 denied 0\n",
      "Loan(145, Home purchase, White, Female, 37, deny) predict: False\n",
      "approved: 1 denied 1\n",
      "Loan(200, Home purchase, White, Male, 95, approve) predict: False\n",
      "approved: 1 denied 2\n",
      "Loan(414, Home purchase, White, Female, 300, approve) predict: False\n",
      "approved: 1 denied 3\n",
      "Loan(22, Refinancing, White, Female, 36, 1) predict: True\n",
      "approved: 2 denied 3\n"
     ]
    }
   ],
   "source": [
    "spred = SimplePredictor()\n",
    "my_loans = [Loan(175, 'Refinancing', 'White', 'Male', 70, 'approve'),\n",
    "            Loan(145, 'Home purchase', 'White', 'Female', 37, 'deny'),\n",
    "            Loan(200, 'Home purchase', 'White', 'Male', 95, 'approve'),\n",
    "            Loan(414, 'Home purchase', 'White', 'Female', 300, 'approve'),\n",
    "            Loan(22, 'Refinancing', 'White', 'Female', 36, '1')]\n",
    "\n",
    "for loan in my_loans:\n",
    "    print(loan, 'predict:', spred.predict(loan))\n",
    "    print('approved:', spred.get_approved(), 'denied', spred.get_denied())"
   ]
  },
  {
   "cell_type": "code",
   "execution_count": 16,
   "id": "c0e2cf13",
   "metadata": {},
   "outputs": [
    {
     "name": "stdout",
     "output_type": "stream",
     "text": [
      "income <= 50\n",
      "  class=0\n",
      "  class=1\n"
     ]
    }
   ],
   "source": [
    "leaf1 = Node(field=\"class\", threshold=0, left=None, right=None)\n",
    "leaf2 = Node(field=\"class\", threshold=1, left=None, right=None)\n",
    "root = Node(field=\"income\", threshold=50, left=leaf1, right=leaf2)\n",
    "root.dump()"
   ]
  },
  {
   "cell_type": "code",
   "execution_count": 17,
   "id": "583c56c0",
   "metadata": {},
   "outputs": [
    {
     "data": {
      "text/plain": [
       "[{'field': 'amount', 'threshold': '200', 'left': '1', 'right': '2'},\n",
       " {'field': 'income', 'threshold': '35', 'left': '3', 'right': '4'},\n",
       " {'field': 'income', 'threshold': '70', 'left': '5', 'right': '6'},\n",
       " {'field': 'class', 'threshold': '0', 'left': '-1', 'right': '-1'},\n",
       " {'field': 'class', 'threshold': '1', 'left': '-1', 'right': '-1'},\n",
       " {'field': 'class', 'threshold': '0', 'left': '-1', 'right': '-1'},\n",
       " {'field': 'class', 'threshold': '1', 'left': '-1', 'right': '-1'}]"
      ]
     },
     "execution_count": 17,
     "metadata": {},
     "output_type": "execute_result"
    }
   ],
   "source": [
    "node_rows = list(tree_reader.rows(\"simple.csv\"))\n",
    "node_rows"
   ]
  },
  {
   "cell_type": "code",
   "execution_count": 18,
   "id": "10107d1b",
   "metadata": {},
   "outputs": [
    {
     "name": "stdout",
     "output_type": "stream",
     "text": [
      "amount <= 200\n",
      "  income <= 35\n",
      "    class=0\n",
      "    class=1\n",
      "  income <= 70\n",
      "    class=0\n",
      "    class=1\n"
     ]
    }
   ],
   "source": [
    "root = build_tree(node_rows)\n",
    "root.dump()"
   ]
  },
  {
   "cell_type": "code",
   "execution_count": 19,
   "id": "69fab586",
   "metadata": {},
   "outputs": [
    {
     "name": "stdout",
     "output_type": "stream",
     "text": [
      "amount <= 146.5\n",
      "  income <= 120.36\n",
      "    income <= 31.5\n",
      "      amount <= 63.5\n",
      "        Refinancing <= 0.5\n",
      "          class=0\n",
      "          class=0\n",
      "        income <= 17.5\n",
      "          class=0\n",
      "          class=0\n",
      "      amount <= 92.5\n",
      "        amount <= 3.5\n",
      "          class=0\n",
      "          class=0\n",
      "        Home purchase <= 0.5\n",
      "          class=0\n",
      "          class=1\n",
      "    income <= 121.5\n",
      "      Home purchase <= 0.5\n",
      "        amount <= 48.5\n",
      "          class=0\n",
      "          class=0\n",
      "        amount <= 89.5\n",
      "          class=0\n",
      "          class=0\n",
      "      income <= 424.5\n",
      "        amount <= 35.5\n",
      "          class=1\n",
      "          class=0\n",
      "        class=1\n",
      "  income <= 119.5\n",
      "    Refinancing <= 0.5\n",
      "      income <= 53.5\n",
      "        income <= 30.5\n",
      "          class=0\n",
      "          class=1\n",
      "        income <= 55.5\n",
      "          class=1\n",
      "          class=1\n",
      "      income <= 54.5\n",
      "        income <= 13.0\n",
      "          class=0\n",
      "          class=0\n",
      "        amount <= 465.5\n",
      "          class=1\n",
      "          class=0\n",
      "    income <= 120.86\n",
      "      Home purchase <= 0.5\n",
      "        Refinancing <= 0.5\n",
      "          class=1\n",
      "          class=0\n",
      "        amount <= 658.5\n",
      "          class=0\n",
      "          class=1\n",
      "      amount <= 326.5\n",
      "        Home purchase <= 0.5\n",
      "          class=1\n",
      "          class=1\n",
      "        amount <= 727.5\n",
      "          class=1\n",
      "          class=1\n"
     ]
    }
   ],
   "source": [
    "tree_reader = ZippedCSVReader(\"trees.zip\")\n",
    "dt = build_tree(list(tree_reader.rows(\"good.csv\")))\n",
    "root = build_tree(list(tree_reader.rows(\"simple.csv\")))\n",
    "dt.dump()"
   ]
  },
  {
   "cell_type": "code",
   "execution_count": 20,
   "id": "f0a20d7c",
   "metadata": {},
   "outputs": [
    {
     "data": {
      "text/plain": [
       "['__class__',\n",
       " '__delattr__',\n",
       " '__dict__',\n",
       " '__dir__',\n",
       " '__doc__',\n",
       " '__eq__',\n",
       " '__format__',\n",
       " '__ge__',\n",
       " '__getattribute__',\n",
       " '__gt__',\n",
       " '__hash__',\n",
       " '__init__',\n",
       " '__init_subclass__',\n",
       " '__le__',\n",
       " '__lt__',\n",
       " '__module__',\n",
       " '__ne__',\n",
       " '__new__',\n",
       " '__reduce__',\n",
       " '__reduce_ex__',\n",
       " '__repr__',\n",
       " '__setattr__',\n",
       " '__sizeof__',\n",
       " '__str__',\n",
       " '__subclasshook__',\n",
       " '__weakref__',\n",
       " 'get_approved',\n",
       " 'get_denied',\n",
       " 'predict']"
      ]
     },
     "execution_count": 20,
     "metadata": {},
     "output_type": "execute_result"
    }
   ],
   "source": [
    "dir(SimplePredictor)"
   ]
  },
  {
   "cell_type": "code",
   "execution_count": 21,
   "id": "687de501",
   "metadata": {},
   "outputs": [
    {
     "name": "stdout",
     "output_type": "stream",
     "text": [
      "amount <= 200\n",
      "  income <= 35\n",
      "    class=0\n",
      "    class=1\n",
      "  income <= 70\n",
      "    class=0\n",
      "    class=1\n",
      "True\n"
     ]
    }
   ],
   "source": [
    "loan = Loan(100, \"Home improvement\", \"Asian\", \"Male\", 102, \"approve\")\n",
    "root = build_tree(list(tree_reader.rows(\"simple.csv\")))\n",
    "root.dump()\n",
    "print(root.predict(loan))"
   ]
  },
  {
   "cell_type": "code",
   "execution_count": 22,
   "id": "ba490759",
   "metadata": {},
   "outputs": [
    {
     "name": "stdout",
     "output_type": "stream",
     "text": [
      "False\n",
      "True\n",
      "True\n",
      "True\n",
      "False\n",
      "False\n",
      "False\n",
      "False\n",
      "False\n",
      "True\n",
      "False\n",
      "False\n",
      "False\n",
      "False\n",
      "False\n",
      "False\n",
      "False\n",
      "False\n",
      "True\n",
      "False\n",
      "False\n",
      "False\n",
      "True\n",
      "True\n",
      "True\n",
      "False\n",
      "False\n",
      "True\n",
      "True\n",
      "False\n",
      "False\n",
      "True\n",
      "False\n",
      "True\n",
      "False\n",
      "True\n",
      "False\n",
      "True\n",
      "False\n",
      "True\n",
      "True\n",
      "False\n",
      "False\n",
      "True\n",
      "True\n",
      "True\n",
      "False\n",
      "False\n",
      "True\n",
      "True\n",
      "True\n",
      "True\n",
      "True\n",
      "False\n",
      "False\n",
      "False\n",
      "False\n",
      "True\n",
      "False\n",
      "False\n"
     ]
    }
   ],
   "source": [
    "\n",
    "reader =ZippedCSVReader('mini.zip')\n",
    "b = Bank(None, reader)\n",
    "sp = SimplePredictor()\n",
    "for x in b.loans():\n",
    "     print(sp.predict(x))\n"
   ]
  },
  {
   "cell_type": "code",
   "execution_count": 23,
   "id": "4f9f5aad",
   "metadata": {},
   "outputs": [],
   "source": [
    "reader = ZippedCSVReader('loans.zip')\n",
    "b = Bank(None, reader)\n",
    "li = b.loans()\n",
    "loans = [next(li) for i in range(30)]"
   ]
  },
  {
   "cell_type": "code",
   "execution_count": 24,
   "id": "163459b6",
   "metadata": {},
   "outputs": [
    {
     "data": {
      "text/plain": [
       "1"
      ]
     },
     "execution_count": 24,
     "metadata": {},
     "output_type": "execute_result"
    }
   ],
   "source": [
    "loan = Loan(40, \"Home improvement\", \"Asian\", \"Male\", 120, \"approve\")\n",
    "loan[\"Asian\"]"
   ]
  },
  {
   "cell_type": "code",
   "execution_count": 25,
   "id": "0b746cb2",
   "metadata": {},
   "outputs": [
    {
     "name": "stdout",
     "output_type": "stream",
     "text": [
      "True\n",
      "True\n",
      "True\n",
      "True\n",
      "True\n",
      "True\n",
      "True\n",
      "True\n",
      "False\n",
      "True\n",
      "True\n",
      "True\n",
      "False\n",
      "True\n",
      "True\n",
      "True\n",
      "True\n",
      "True\n",
      "True\n",
      "True\n",
      "True\n",
      "True\n",
      "True\n",
      "True\n",
      "False\n",
      "True\n",
      "True\n",
      "True\n",
      "True\n",
      "True\n",
      "True\n",
      "True\n",
      "True\n",
      "False\n",
      "False\n",
      "True\n",
      "True\n",
      "True\n",
      "False\n",
      "True\n",
      "True\n",
      "True\n",
      "False\n",
      "True\n",
      "True\n",
      "True\n",
      "False\n",
      "True\n",
      "True\n",
      "True\n",
      "True\n",
      "True\n",
      "True\n",
      "False\n",
      "True\n",
      "True\n",
      "True\n",
      "True\n",
      "True\n",
      "True\n",
      "True\n",
      "True\n",
      "True\n",
      "False\n",
      "False\n",
      "True\n",
      "True\n",
      "True\n",
      "False\n",
      "True\n",
      "True\n",
      "True\n",
      "False\n",
      "True\n",
      "True\n",
      "True\n",
      "True\n",
      "False\n",
      "True\n",
      "True\n",
      "True\n",
      "True\n",
      "True\n",
      "False\n",
      "True\n",
      "True\n",
      "False\n",
      "True\n",
      "True\n",
      "True\n",
      "True\n",
      "True\n",
      "True\n",
      "False\n",
      "False\n",
      "True\n",
      "True\n",
      "True\n",
      "False\n",
      "True\n",
      "True\n",
      "True\n",
      "False\n",
      "True\n",
      "True\n",
      "True\n",
      "False\n",
      "True\n",
      "True\n",
      "True\n",
      "True\n",
      "True\n",
      "True\n",
      "False\n",
      "False\n",
      "True\n",
      "True\n",
      "True\n",
      "True\n",
      "True\n"
     ]
    }
   ],
   "source": [
    "reader = ZippedCSVReader('loans.zip')\n",
    "b = Bank(None, reader)\n",
    "li = b.loans()\n",
    "loans = [next(li) for i in range(30)]\n",
    "\n",
    "for file_name in ['simple.csv', 'good.csv', 'race_biased.csv', 'sex_biased.csv']:\n",
    "    dt = build_tree(list(ZippedCSVReader(\"trees.zip\").rows(file_name)))\n",
    "\n",
    "    for i, loan in enumerate(loans):\n",
    "        print(dt.predict(loan))\n",
    "    "
   ]
  },
  {
   "cell_type": "code",
   "execution_count": 26,
   "id": "b0612347",
   "metadata": {},
   "outputs": [
    {
     "data": {
      "text/plain": [
       "['__class__',\n",
       " '__delattr__',\n",
       " '__dict__',\n",
       " '__dir__',\n",
       " '__doc__',\n",
       " '__eq__',\n",
       " '__format__',\n",
       " '__ge__',\n",
       " '__getattribute__',\n",
       " '__gt__',\n",
       " '__hash__',\n",
       " '__init__',\n",
       " '__init_subclass__',\n",
       " '__le__',\n",
       " '__lt__',\n",
       " '__module__',\n",
       " '__ne__',\n",
       " '__new__',\n",
       " '__reduce__',\n",
       " '__reduce_ex__',\n",
       " '__repr__',\n",
       " '__setattr__',\n",
       " '__sizeof__',\n",
       " '__str__',\n",
       " '__subclasshook__',\n",
       " '__weakref__',\n",
       " 'get_approved',\n",
       " 'get_denied',\n",
       " 'predict']"
      ]
     },
     "execution_count": 26,
     "metadata": {},
     "output_type": "execute_result"
    }
   ],
   "source": [
    "dir(SimplePredictor)"
   ]
  },
  {
   "cell_type": "code",
   "execution_count": 34,
   "id": "23648292",
   "metadata": {},
   "outputs": [
    {
     "name": "stdout",
     "output_type": "stream",
     "text": [
      "0.4114503816793893\n"
     ]
    }
   ],
   "source": [
    "b = Bank(None, ZippedCSVReader(\"loans.zip\"))\n",
    "dt = build_tree(list(ZippedCSVReader(\"trees.zip\").rows(\"race_biased.csv\")))\n",
    "bias_percent = bias_test(b, dt, \"race\", \"Black or African American\")\n",
    "print(bias_percent)"
   ]
  },
  {
   "cell_type": "code",
   "execution_count": null,
   "id": "0fbe2ae8",
   "metadata": {},
   "outputs": [],
   "source": []
  }
 ],
 "metadata": {
  "kernelspec": {
   "display_name": "Python 3 (ipykernel)",
   "language": "python",
   "name": "python3"
  },
  "language_info": {
   "codemirror_mode": {
    "name": "ipython",
    "version": 3
   },
   "file_extension": ".py",
   "mimetype": "text/x-python",
   "name": "python",
   "nbconvert_exporter": "python",
   "pygments_lexer": "ipython3",
   "version": "3.8.10"
  }
 },
 "nbformat": 4,
 "nbformat_minor": 5
}
