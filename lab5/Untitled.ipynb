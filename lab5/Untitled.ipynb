{
 "cells": [
  {
   "cell_type": "code",
   "execution_count": 1,
   "id": "56074921",
   "metadata": {},
   "outputs": [],
   "source": [
    "import graphviz\n",
    "class Node():\n",
    "    def __init__(self, key, val):\n",
    "        self.key = key\n",
    "        self.val = val\n",
    "        self.left = None\n",
    "        self.right=None"
   ]
  },
  {
   "cell_type": "code",
   "execution_count": 2,
   "id": "a83877bc",
   "metadata": {},
   "outputs": [],
   "source": [
    "class BST():\n",
    "    def __init__(self):\n",
    "        self.root = None\n",
    "        self.size = 0\n",
    "\n",
    "    def add(self, key, val):\n",
    "        if self.root == None:\n",
    "            self.root = Node(key,val)\n",
    "            self.size += 1\n",
    "            \n",
    "        start = self.root\n",
    "        while True:\n",
    "            if key == start.key:\n",
    "                start.val = val\n",
    "                return\n",
    "            elif key < start.key:\n",
    "                if start.left == None:\n",
    "                    start.left = Node(key, val)\n",
    "                    self.size += 1\n",
    "                    return\n",
    "                start = start.left\n",
    "            else:\n",
    "                if start.right == None:\n",
    "                    start.right = Node(key, val)\n",
    "                    self.size += 1\n",
    "                    return\n",
    "                start = start.right\n",
    "    def __len__(self):\n",
    "        return self.size\n",
    "        \n",
    "        \n",
    "        \n",
    "    def __dump(self, node):\n",
    "        if node == None:\n",
    "            return\n",
    "        self.__dump(node.left)   \n",
    "        print(node.key, \": \", node.val) # B\n",
    "        self.__dump(node.right)         # A\n",
    "        \n",
    "    def dump(self):\n",
    "        self.__dump(self.root)\n",
    "            \n",
    "            \n",
    "    def __setitem__(self, key, val):\n",
    "        self.add(key, val)\n",
    "        \n",
    "    def __lookup(self, node, key):\n",
    "        if node == None:\n",
    "            return None # default\n",
    "        elif node.key == key:\n",
    "            return node.val\n",
    "        elif key < node.key:\n",
    "            return self.__lookup(node.left, key)\n",
    "        else:\n",
    "            assert key > node.key\n",
    "            return self.__lookup(node.right, key)\n",
    "\n",
    "    def __getitem__(self, key):\n",
    "        return self.__lookup(self.root, key)\n",
    "    \n",
    "    \n",
    "    def __graphviz(self, g, node):\n",
    "        g.node(node.key)\n",
    "        for label, child in [(\"L\", node.left), (\"R\", node.right)]:\n",
    "            if child != None:\n",
    "                self.__graphviz(g, child)\n",
    "                g.edge(node.key, child.key, label=label)\n",
    "    \n",
    "    def _repr_svg_(self):\n",
    "        g = graphviz.Digraph()\n",
    "        if self.root != None:\n",
    "            self.__graphviz(g, self.root)\n",
    "        return g._repr_svg_()\n",
    "\n",
    "\n"
   ]
  },
  {
   "cell_type": "code",
   "execution_count": 3,
   "id": "168c601c",
   "metadata": {},
   "outputs": [],
   "source": [
    "t = BST()\n",
    "t.add(\"B\", 3)\n",
    "assert t.size == 1\n",
    "t.add(\"A\", 2)\n",
    "assert t.size == 2\n",
    "t.add(\"C\", 1)\n",
    "assert t.size == 3\n",
    "t.add(\"C\", 4)\n",
    "assert t.size == 3\n"
   ]
  },
  {
   "cell_type": "code",
   "execution_count": 4,
   "id": "0f719825",
   "metadata": {},
   "outputs": [],
   "source": [
    "\n",
    "t = BST()\n",
    "t.add(\"B\", 3)\n",
    "assert len(t) == 1\n",
    "t.add(\"A\", 2)\n",
    "assert len(t) == 2\n",
    "t.add(\"C\", 1)\n",
    "assert len(t) == 3\n",
    "t.add(\"C\", 4)\n",
    "assert len(t) == 3"
   ]
  },
  {
   "cell_type": "code",
   "execution_count": 5,
   "id": "acbd5182",
   "metadata": {},
   "outputs": [
    {
     "name": "stdout",
     "output_type": "stream",
     "text": [
      "A :  2\n",
      "B :  3\n",
      "C :  4\n"
     ]
    }
   ],
   "source": [
    "t.dump()"
   ]
  },
  {
   "cell_type": "code",
   "execution_count": 6,
   "id": "b915b40f",
   "metadata": {},
   "outputs": [
    {
     "name": "stdout",
     "output_type": "stream",
     "text": [
      "A :  2\n",
      "B :  3\n",
      "C :  4\n"
     ]
    }
   ],
   "source": [
    "t = BST()\n",
    "t[\"B\"] = 3\n",
    "t[\"A\"] = 2\n",
    "t[\"C\"] = 1\n",
    "t[\"C\"] = 4\n",
    "t.dump()\n"
   ]
  },
  {
   "cell_type": "code",
   "execution_count": 7,
   "id": "bcdf545b",
   "metadata": {},
   "outputs": [
    {
     "name": "stdout",
     "output_type": "stream",
     "text": [
      "None\n",
      "1\n",
      "2\n",
      "3\n"
     ]
    }
   ],
   "source": [
    "t = BST()\n",
    "\n",
    "# test default\n",
    "print(t[\"default\"])\n",
    "\n",
    "# test root\n",
    "t[\"B\"] = 1\n",
    "print(t[\"B\"])\n",
    "\n",
    "# test right child\n",
    "t[\"C\"] = 2\n",
    "print(t[\"C\"])\n",
    "\n",
    "# test update\n",
    "t[\"B\"] = 3\n",
    "print(t[\"B\"])\n"
   ]
  },
  {
   "cell_type": "code",
   "execution_count": 8,
   "id": "3818a5d3",
   "metadata": {},
   "outputs": [
    {
     "data": {
      "image/svg+xml": [
       "<?xml version=\"1.0\" encoding=\"UTF-8\" standalone=\"no\"?>\n",
       "<!DOCTYPE svg PUBLIC \"-//W3C//DTD SVG 1.1//EN\"\n",
       " \"http://www.w3.org/Graphics/SVG/1.1/DTD/svg11.dtd\">\n",
       "<!-- Generated by graphviz version 2.43.0 (0)\n",
       " -->\n",
       "<!-- Title: %3 Pages: 1 -->\n",
       "<svg width=\"206pt\" height=\"305pt\"\n",
       " viewBox=\"0.00 0.00 206.00 305.00\" xmlns=\"http://www.w3.org/2000/svg\" xmlns:xlink=\"http://www.w3.org/1999/xlink\">\n",
       "<g id=\"graph0\" class=\"graph\" transform=\"scale(1 1) rotate(0) translate(4 301)\">\n",
       "<title>%3</title>\n",
       "<polygon fill=\"white\" stroke=\"transparent\" points=\"-4,4 -4,-301 202,-301 202,4 -4,4\"/>\n",
       "<!-- D -->\n",
       "<g id=\"node1\" class=\"node\">\n",
       "<title>D</title>\n",
       "<ellipse fill=\"none\" stroke=\"black\" cx=\"62\" cy=\"-279\" rx=\"27\" ry=\"18\"/>\n",
       "<text text-anchor=\"middle\" x=\"62\" y=\"-275.3\" font-family=\"Times,serif\" font-size=\"14.00\">D</text>\n",
       "</g>\n",
       "<!-- A -->\n",
       "<g id=\"node2\" class=\"node\">\n",
       "<title>A</title>\n",
       "<ellipse fill=\"none\" stroke=\"black\" cx=\"27\" cy=\"-192\" rx=\"27\" ry=\"18\"/>\n",
       "<text text-anchor=\"middle\" x=\"27\" y=\"-188.3\" font-family=\"Times,serif\" font-size=\"14.00\">A</text>\n",
       "</g>\n",
       "<!-- D&#45;&gt;A -->\n",
       "<g id=\"edge3\" class=\"edge\">\n",
       "<title>D&#45;&gt;A</title>\n",
       "<path fill=\"none\" stroke=\"black\" d=\"M55.09,-261.21C50.12,-249.14 43.32,-232.64 37.66,-218.89\"/>\n",
       "<polygon fill=\"black\" stroke=\"black\" points=\"40.83,-217.38 33.78,-209.47 34.35,-220.05 40.83,-217.38\"/>\n",
       "<text text-anchor=\"middle\" x=\"52\" y=\"-231.8\" font-family=\"Times,serif\" font-size=\"14.00\">L</text>\n",
       "</g>\n",
       "<!-- F -->\n",
       "<g id=\"node5\" class=\"node\">\n",
       "<title>F</title>\n",
       "<ellipse fill=\"none\" stroke=\"black\" cx=\"99\" cy=\"-192\" rx=\"27\" ry=\"18\"/>\n",
       "<text text-anchor=\"middle\" x=\"99\" y=\"-188.3\" font-family=\"Times,serif\" font-size=\"14.00\">F</text>\n",
       "</g>\n",
       "<!-- D&#45;&gt;F -->\n",
       "<g id=\"edge6\" class=\"edge\">\n",
       "<title>D&#45;&gt;F</title>\n",
       "<path fill=\"none\" stroke=\"black\" d=\"M69.13,-261.61C74.37,-249.58 81.6,-232.98 87.63,-219.13\"/>\n",
       "<polygon fill=\"black\" stroke=\"black\" points=\"90.98,-220.19 91.76,-209.63 84.56,-217.4 90.98,-220.19\"/>\n",
       "<text text-anchor=\"middle\" x=\"88.5\" y=\"-231.8\" font-family=\"Times,serif\" font-size=\"14.00\">R</text>\n",
       "</g>\n",
       "<!-- B -->\n",
       "<g id=\"node3\" class=\"node\">\n",
       "<title>B</title>\n",
       "<ellipse fill=\"none\" stroke=\"black\" cx=\"27\" cy=\"-105\" rx=\"27\" ry=\"18\"/>\n",
       "<text text-anchor=\"middle\" x=\"27\" y=\"-101.3\" font-family=\"Times,serif\" font-size=\"14.00\">B</text>\n",
       "</g>\n",
       "<!-- A&#45;&gt;B -->\n",
       "<g id=\"edge2\" class=\"edge\">\n",
       "<title>A&#45;&gt;B</title>\n",
       "<path fill=\"none\" stroke=\"black\" d=\"M27,-173.8C27,-162.16 27,-146.55 27,-133.24\"/>\n",
       "<polygon fill=\"black\" stroke=\"black\" points=\"30.5,-133.18 27,-123.18 23.5,-133.18 30.5,-133.18\"/>\n",
       "<text text-anchor=\"middle\" x=\"32.5\" y=\"-144.8\" font-family=\"Times,serif\" font-size=\"14.00\">R</text>\n",
       "</g>\n",
       "<!-- C -->\n",
       "<g id=\"node4\" class=\"node\">\n",
       "<title>C</title>\n",
       "<ellipse fill=\"none\" stroke=\"black\" cx=\"27\" cy=\"-18\" rx=\"27\" ry=\"18\"/>\n",
       "<text text-anchor=\"middle\" x=\"27\" y=\"-14.3\" font-family=\"Times,serif\" font-size=\"14.00\">C</text>\n",
       "</g>\n",
       "<!-- B&#45;&gt;C -->\n",
       "<g id=\"edge1\" class=\"edge\">\n",
       "<title>B&#45;&gt;C</title>\n",
       "<path fill=\"none\" stroke=\"black\" d=\"M27,-86.8C27,-75.16 27,-59.55 27,-46.24\"/>\n",
       "<polygon fill=\"black\" stroke=\"black\" points=\"30.5,-46.18 27,-36.18 23.5,-46.18 30.5,-46.18\"/>\n",
       "<text text-anchor=\"middle\" x=\"32.5\" y=\"-57.8\" font-family=\"Times,serif\" font-size=\"14.00\">R</text>\n",
       "</g>\n",
       "<!-- E -->\n",
       "<g id=\"node6\" class=\"node\">\n",
       "<title>E</title>\n",
       "<ellipse fill=\"none\" stroke=\"black\" cx=\"99\" cy=\"-105\" rx=\"27\" ry=\"18\"/>\n",
       "<text text-anchor=\"middle\" x=\"99\" y=\"-101.3\" font-family=\"Times,serif\" font-size=\"14.00\">E</text>\n",
       "</g>\n",
       "<!-- F&#45;&gt;E -->\n",
       "<g id=\"edge4\" class=\"edge\">\n",
       "<title>F&#45;&gt;E</title>\n",
       "<path fill=\"none\" stroke=\"black\" d=\"M99,-173.8C99,-162.16 99,-146.55 99,-133.24\"/>\n",
       "<polygon fill=\"black\" stroke=\"black\" points=\"102.5,-133.18 99,-123.18 95.5,-133.18 102.5,-133.18\"/>\n",
       "<text text-anchor=\"middle\" x=\"104\" y=\"-144.8\" font-family=\"Times,serif\" font-size=\"14.00\">L</text>\n",
       "</g>\n",
       "<!-- G -->\n",
       "<g id=\"node7\" class=\"node\">\n",
       "<title>G</title>\n",
       "<ellipse fill=\"none\" stroke=\"black\" cx=\"171\" cy=\"-105\" rx=\"27\" ry=\"18\"/>\n",
       "<text text-anchor=\"middle\" x=\"171\" y=\"-101.3\" font-family=\"Times,serif\" font-size=\"14.00\">G</text>\n",
       "</g>\n",
       "<!-- F&#45;&gt;G -->\n",
       "<g id=\"edge5\" class=\"edge\">\n",
       "<title>F&#45;&gt;G</title>\n",
       "<path fill=\"none\" stroke=\"black\" d=\"M111.87,-175.8C122.93,-162.75 139.04,-143.74 151.65,-128.85\"/>\n",
       "<polygon fill=\"black\" stroke=\"black\" points=\"154.45,-130.96 158.24,-121.06 149.11,-126.43 154.45,-130.96\"/>\n",
       "<text text-anchor=\"middle\" x=\"144.5\" y=\"-144.8\" font-family=\"Times,serif\" font-size=\"14.00\">R</text>\n",
       "</g>\n",
       "</g>\n",
       "</svg>\n"
      ],
      "text/plain": [
       "<__main__.BST at 0x7fc6b81f4070>"
      ]
     },
     "execution_count": 8,
     "metadata": {},
     "output_type": "execute_result"
    }
   ],
   "source": [
    "t = BST()\n",
    "t[\"D\"] = 9\n",
    "t[\"A\"] = 8\n",
    "t[\"F\"] = 5\n",
    "t[\"B\"] = 7\n",
    "t[\"C\"] = 6\n",
    "t[\"E\"] = 4\n",
    "t[\"G\"] = 3\n",
    "t\n"
   ]
  },
  {
   "cell_type": "code",
   "execution_count": null,
   "id": "e9b42c87",
   "metadata": {},
   "outputs": [],
   "source": []
  },
  {
   "cell_type": "code",
   "execution_count": null,
   "id": "d1025ca9",
   "metadata": {},
   "outputs": [],
   "source": []
  },
  {
   "cell_type": "code",
   "execution_count": null,
   "id": "58b1ec6c",
   "metadata": {},
   "outputs": [],
   "source": []
  }
 ],
 "metadata": {
  "kernelspec": {
   "display_name": "Python 3 (ipykernel)",
   "language": "python",
   "name": "python3"
  },
  "language_info": {
   "codemirror_mode": {
    "name": "ipython",
    "version": 3
   },
   "file_extension": ".py",
   "mimetype": "text/x-python",
   "name": "python",
   "nbconvert_exporter": "python",
   "pygments_lexer": "ipython3",
   "version": "3.8.10"
  }
 },
 "nbformat": 4,
 "nbformat_minor": 5
}
