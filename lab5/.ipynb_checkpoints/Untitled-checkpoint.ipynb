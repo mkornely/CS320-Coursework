{
 "cells": [
  {
   "cell_type": "code",
   "execution_count": 10,
   "id": "867f2834",
   "metadata": {},
   "outputs": [],
   "source": [
    "import graphviz\n",
    "class Node():\n",
    "    def __init__(self, key, val):\n",
    "        self.key = key\n",
    "        self.val = val\n",
    "        self.left = None\n",
    "        self.right=None"
   ]
  },
  {
   "cell_type": "code",
   "execution_count": 2,
   "id": "11623cb2",
   "metadata": {},
   "outputs": [],
   "source": [
    "class BST():\n",
    "    def __init__(self):\n",
    "        self.root = None\n",
    "        self.size = 0\n",
    "\n",
    "    def add(self, key, val):\n",
    "        if self.root == None:\n",
    "            self.root = Node(key,val)\n",
    "            self.size += 1\n",
    "            \n",
    "        start = self.root\n",
    "        while True:\n",
    "            if key == start.key:\n",
    "                start.val = val\n",
    "                return\n",
    "            elif key < start.key:\n",
    "                if start.left == None:\n",
    "                    start.left = Node(key, val)\n",
    "                    self.size += 1\n",
    "                    return\n",
    "                start = start.left\n",
    "            else:\n",
    "                if start.right == None:\n",
    "                    start.right = Node(key, val)\n",
    "                    self.size += 1\n",
    "                    return\n",
    "                start = start.right\n",
    "    def __len__(self):\n",
    "        return self.size\n",
    "        \n",
    "        \n",
    "        \n",
    "    def __dump(self, node):\n",
    "        if node == None:\n",
    "            return\n",
    "        self.__dump(node.left)   \n",
    "        print(node.key, \": \", node.val) # B\n",
    "        self.__dump(node.right)         # A\n",
    "        \n",
    "    def dump(self):\n",
    "        self.__dump(self.root)\n",
    "            \n",
    "            \n",
    "    def __setitem__(self, key, val):\n",
    "        self.add(key, val)\n",
    "        \n",
    "    def __lookup(self, node, key):\n",
    "        if node == None:\n",
    "            return None # default\n",
    "        elif node.key == key:\n",
    "            return node.val\n",
    "        elif key < node.key:\n",
    "            return self.__lookup(node.left, key)\n",
    "        else:\n",
    "            assert key > node.key\n",
    "            return self.__lookup(node.right, key)\n",
    "\n",
    "    def __getitem__(self, key):\n",
    "        return self.__lookup(self.root, key)\n",
    "    \n",
    "    \n",
    "    def __graphviz(self, g, node):\n",
    "        g.node(node.key)\n",
    "        for label, child in [(\"L\", node.left), (\"R\", node.right)]:\n",
    "            if child != None:\n",
    "                self.__graphviz(g, child)\n",
    "                g.edge(node.key, child.key, label=label)\n",
    "    \n",
    "    def _repr_svg_(self):\n",
    "        g = graphviz.Digraph()\n",
    "        if self.root != None:\n",
    "            self.__graphviz(g, self.root)\n",
    "        return g._repr_svg_()\n",
    "\n",
    "\n"
   ]
  },
  {
   "cell_type": "code",
   "execution_count": 3,
   "id": "9c271ffe",
   "metadata": {},
   "outputs": [],
   "source": [
    "t = BST()\n",
    "t.add(\"B\", 3)\n",
    "assert t.size == 1\n",
    "t.add(\"A\", 2)\n",
    "assert t.size == 2\n",
    "t.add(\"C\", 1)\n",
    "assert t.size == 3\n",
    "t.add(\"C\", 4)\n",
    "assert t.size == 3\n"
   ]
  },
  {
   "cell_type": "code",
   "execution_count": 4,
   "id": "9d2862e6",
   "metadata": {},
   "outputs": [],
   "source": [
    "\n",
    "t = BST()\n",
    "t.add(\"B\", 3)\n",
    "assert len(t) == 1\n",
    "t.add(\"A\", 2)\n",
    "assert len(t) == 2\n",
    "t.add(\"C\", 1)\n",
    "assert len(t) == 3\n",
    "t.add(\"C\", 4)\n",
    "assert len(t) == 3"
   ]
  },
  {
   "cell_type": "code",
   "execution_count": 5,
   "id": "5cc0f427",
   "metadata": {},
   "outputs": [
    {
     "name": "stdout",
     "output_type": "stream",
     "text": [
      "A :  2\n",
      "B :  3\n",
      "C :  4\n"
     ]
    }
   ],
   "source": [
    "t.dump()"
   ]
  },
  {
   "cell_type": "code",
   "execution_count": 6,
   "id": "a9b61121",
   "metadata": {},
   "outputs": [
    {
     "name": "stdout",
     "output_type": "stream",
     "text": [
      "A :  2\n",
      "B :  3\n",
      "C :  4\n"
     ]
    }
   ],
   "source": [
    "t = BST()\n",
    "t[\"B\"] = 3\n",
    "t[\"A\"] = 2\n",
    "t[\"C\"] = 1\n",
    "t[\"C\"] = 4\n",
    "t.dump()\n"
   ]
  },
  {
   "cell_type": "code",
   "execution_count": 7,
   "id": "b57a8be5",
   "metadata": {},
   "outputs": [
    {
     "name": "stdout",
     "output_type": "stream",
     "text": [
      "None\n",
      "1\n",
      "2\n",
      "3\n"
     ]
    }
   ],
   "source": [
    "t = BST()\n",
    "\n",
    "# test default\n",
    "print(t[\"default\"])\n",
    "\n",
    "# test root\n",
    "t[\"B\"] = 1\n",
    "print(t[\"B\"])\n",
    "\n",
    "# test right child\n",
    "t[\"C\"] = 2\n",
    "print(t[\"C\"])\n",
    "\n",
    "# test update\n",
    "t[\"B\"] = 3\n",
    "print(t[\"B\"])\n"
   ]
  },
  {
   "cell_type": "code",
   "execution_count": 8,
   "id": "41b9552c",
   "metadata": {},
   "outputs": [
    {
     "ename": "NameError",
     "evalue": "name 'Digraph' is not defined",
     "output_type": "error",
     "traceback": [
      "\u001b[0;31m---------------------------------------------------------------------------\u001b[0m",
      "\u001b[0;31mNameError\u001b[0m                                 Traceback (most recent call last)",
      "\u001b[0;32m~/.local/lib/python3.8/site-packages/IPython/core/formatters.py\u001b[0m in \u001b[0;36m__call__\u001b[0;34m(self, obj)\u001b[0m\n\u001b[1;32m    343\u001b[0m             \u001b[0mmethod\u001b[0m \u001b[0;34m=\u001b[0m \u001b[0mget_real_method\u001b[0m\u001b[0;34m(\u001b[0m\u001b[0mobj\u001b[0m\u001b[0;34m,\u001b[0m \u001b[0mself\u001b[0m\u001b[0;34m.\u001b[0m\u001b[0mprint_method\u001b[0m\u001b[0;34m)\u001b[0m\u001b[0;34m\u001b[0m\u001b[0;34m\u001b[0m\u001b[0m\n\u001b[1;32m    344\u001b[0m             \u001b[0;32mif\u001b[0m \u001b[0mmethod\u001b[0m \u001b[0;32mis\u001b[0m \u001b[0;32mnot\u001b[0m \u001b[0;32mNone\u001b[0m\u001b[0;34m:\u001b[0m\u001b[0;34m\u001b[0m\u001b[0;34m\u001b[0m\u001b[0m\n\u001b[0;32m--> 345\u001b[0;31m                 \u001b[0;32mreturn\u001b[0m \u001b[0mmethod\u001b[0m\u001b[0;34m(\u001b[0m\u001b[0;34m)\u001b[0m\u001b[0;34m\u001b[0m\u001b[0;34m\u001b[0m\u001b[0m\n\u001b[0m\u001b[1;32m    346\u001b[0m             \u001b[0;32mreturn\u001b[0m \u001b[0;32mNone\u001b[0m\u001b[0;34m\u001b[0m\u001b[0;34m\u001b[0m\u001b[0m\n\u001b[1;32m    347\u001b[0m         \u001b[0;32melse\u001b[0m\u001b[0;34m:\u001b[0m\u001b[0;34m\u001b[0m\u001b[0;34m\u001b[0m\u001b[0m\n",
      "\u001b[0;32m/tmp/ipykernel_10610/3357604675.py\u001b[0m in \u001b[0;36m_repr_svg_\u001b[0;34m(self)\u001b[0m\n\u001b[1;32m     68\u001b[0m \u001b[0;34m\u001b[0m\u001b[0m\n\u001b[1;32m     69\u001b[0m     \u001b[0;32mdef\u001b[0m \u001b[0m_repr_svg_\u001b[0m\u001b[0;34m(\u001b[0m\u001b[0mself\u001b[0m\u001b[0;34m)\u001b[0m\u001b[0;34m:\u001b[0m\u001b[0;34m\u001b[0m\u001b[0;34m\u001b[0m\u001b[0m\n\u001b[0;32m---> 70\u001b[0;31m         \u001b[0mg\u001b[0m \u001b[0;34m=\u001b[0m \u001b[0mDigraph\u001b[0m\u001b[0;34m(\u001b[0m\u001b[0;34m)\u001b[0m\u001b[0;34m\u001b[0m\u001b[0;34m\u001b[0m\u001b[0m\n\u001b[0m\u001b[1;32m     71\u001b[0m         \u001b[0;32mif\u001b[0m \u001b[0mself\u001b[0m\u001b[0;34m.\u001b[0m\u001b[0mroot\u001b[0m \u001b[0;34m!=\u001b[0m \u001b[0;32mNone\u001b[0m\u001b[0;34m:\u001b[0m\u001b[0;34m\u001b[0m\u001b[0;34m\u001b[0m\u001b[0m\n\u001b[1;32m     72\u001b[0m             \u001b[0mself\u001b[0m\u001b[0;34m.\u001b[0m\u001b[0m__graphviz\u001b[0m\u001b[0;34m(\u001b[0m\u001b[0mg\u001b[0m\u001b[0;34m,\u001b[0m \u001b[0mself\u001b[0m\u001b[0;34m.\u001b[0m\u001b[0mroot\u001b[0m\u001b[0;34m)\u001b[0m\u001b[0;34m\u001b[0m\u001b[0;34m\u001b[0m\u001b[0m\n",
      "\u001b[0;31mNameError\u001b[0m: name 'Digraph' is not defined"
     ]
    },
    {
     "data": {
      "text/plain": [
       "<__main__.BST at 0x7f3b043e66a0>"
      ]
     },
     "execution_count": 8,
     "metadata": {},
     "output_type": "execute_result"
    }
   ],
   "source": [
    "t = BST()\n",
    "t[\"D\"] = 9\n",
    "t[\"A\"] = 8\n",
    "t[\"B\"] = 7\n",
    "t[\"C\"] = 6\n",
    "t[\"F\"] = 5\n",
    "t[\"E\"] = 4\n",
    "t[\"G\"] = 3\n",
    "t\n"
   ]
  },
  {
   "cell_type": "code",
   "execution_count": null,
   "id": "9c02b966",
   "metadata": {},
   "outputs": [],
   "source": []
  },
  {
   "cell_type": "code",
   "execution_count": null,
   "id": "d550e8e3",
   "metadata": {},
   "outputs": [],
   "source": []
  },
  {
   "cell_type": "code",
   "execution_count": null,
   "id": "5f4a670d",
   "metadata": {},
   "outputs": [],
   "source": []
  }
 ],
 "metadata": {
  "kernelspec": {
   "display_name": "Python 3 (ipykernel)",
   "language": "python",
   "name": "python3"
  },
  "language_info": {
   "codemirror_mode": {
    "name": "ipython",
    "version": 3
   },
   "file_extension": ".py",
   "mimetype": "text/x-python",
   "name": "python",
   "nbconvert_exporter": "python",
   "pygments_lexer": "ipython3",
   "version": "3.8.10"
  }
 },
 "nbformat": 4,
 "nbformat_minor": 5
}
