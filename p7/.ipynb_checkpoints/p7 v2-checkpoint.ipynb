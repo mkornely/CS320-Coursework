{
 "cells": [
  {
   "cell_type": "code",
   "execution_count": 1,
   "id": "2604d6db",
   "metadata": {},
   "outputs": [],
   "source": [
    "import pandas as pd\n",
    "import numpy as np\n",
    "from sklearn.pipeline import Pipeline\n",
    "from sklearn.preprocessing import PolynomialFeatures, OneHotEncoder\n",
    "from sklearn.compose import make_column_transformer\n",
    "from sklearn.linear_model import LinearRegression, LogisticRegression\n",
    "from sklearn.compose import make_column_transformer\n",
    "\n",
    "\n",
    "\n",
    "\n",
    "\n",
    "\n",
    "class UserPredictor:\n",
    "#     def __init__(self):\n",
    "#         self.xcols=list()\n",
    "        \n",
    "\n",
    "    def fit(self, train_users, train_logs,train_y):\n",
    "        xcols=[\"past_purchase_amt\", \"age\",\"/blender.html\",\"/cleats.html\",\"/keyboard.html\",\"/laptop.html\",\"/tablet.html\",\"badge\"]\n",
    "\n",
    "#         model=LogisticRegression(fit_intercept=False,max_iter=1000) \n",
    "       \n",
    "\n",
    "#         oh = OneHotEncoder()\n",
    "#         data = oh.fit_transform(train_users[[\"badge\"]])\n",
    "#         frame=pd.DataFrame(data.toarray(), columns=oh.get_feature_names_out())\n",
    "\n",
    "\n",
    "\n",
    "#         train_users[\"gold\"]=frame[\"badge_gold\"]\n",
    "#         train_users[\"bronze\"]=frame[\"badge_bronze\"]\n",
    "#         train_users[\"silver\"]=frame[\"badge_silver\"]\n",
    "\n",
    "       \n",
    "\n",
    "        merged_inner = pd.merge(left=train_users, right=train_y)\n",
    "\n",
    "\n",
    "        train_logs_final=train_logs.pivot_table(index=\"user_id\",columns=\"url\", values=\"seconds\",aggfunc='sum')\n",
    "        train_logs_final.reset_index(level=0, inplace=True)\n",
    "\n",
    "        merged_final=merged_inner.merge(train_logs_final, how=\"left\")\n",
    "        merged_final=merged_final.fillna(0)\n",
    "\n",
    "         combined = make_column_transformer(\n",
    "            (PolynomialFeatures(degree=3, include_bias=False), [\"past_purchase_amt\"]),\n",
    "            (OneHotEncoder(), [\"badge\"]),\n",
    "        )\n",
    "            \n",
    "        model= Pipeline([\n",
    "            (\"transformer\", combined),\n",
    "            (\"lr\", LogisticRegression(fit_intercept=False,max_iter=1000) ),\n",
    "        ])\n",
    "            \n",
    "        self.model= model.fit(merged_final[xcols], merged_final[\"y\"])\n",
    "\n",
    "        \n",
    "    def predict(self,test_users, test_logs):\n",
    "        oh = OneHotEncoder()\n",
    "        data = oh.fit_transform(test_users[[\"badge\"]])\n",
    "        frame=pd.DataFrame(data.toarray(), columns=oh.get_feature_names_out())\n",
    "\n",
    "        xcols=[\"past_purchase_amt\", \"age\",\"/blender.html\",\"/cleats.html\",\"/keyboard.html\",\"/laptop.html\",\"/tablet.html\",\"gold\",\"silver\",\"bronze\"]\n",
    "\n",
    "        test_users[\"gold\"]=frame[\"badge_gold\"]\n",
    "        test_users[\"bronze\"]=frame[\"badge_bronze\"]\n",
    "        test_users[\"silver\"]=frame[\"badge_silver\"]\n",
    "\n",
    "\n",
    "        test_logs_final=test_logs.pivot_table(index=\"user_id\",columns=\"url\", values=\"seconds\",aggfunc='sum')\n",
    "        test_logs_final.reset_index(level=0, inplace=True)\n",
    "\n",
    "        merged_final=test_users.merge(test_logs_final, how=\"left\")\n",
    "        merged_final=merged_final.fillna(0)\n",
    "        \n",
    "        \n",
    "        merged_final[\"prediction\"] = self.model.predict(merged_final[xcols])\n",
    "        \n",
    "        return merged_final[\"prediction\"].to_numpy()\n",
    "    \n",
    "    "
   ]
  },
  {
   "cell_type": "code",
   "execution_count": 7,
   "id": "9a7248e7",
   "metadata": {},
   "outputs": [
    {
     "data": {
      "text/plain": [
       "80.09333333333333"
      ]
     },
     "execution_count": 7,
     "metadata": {},
     "output_type": "execute_result"
    }
   ],
   "source": [
    "model = UserPredictor()\n",
    "train_users = pd.read_csv(\"data/train_users.csv\")\n",
    "train_logs = pd.read_csv(\"data/train_logs.csv\")\n",
    "train_y = pd.read_csv(\"data/train_y.csv\")\n",
    "model.fit(train_users, train_logs, train_y)\n",
    "test_users = pd.read_csv(\"data/test1_users.csv\")\n",
    "test_logs = pd.read_csv(\"data/test1_logs.csv\")\n",
    "test_y = pd.read_csv(\"data/test1_y.csv\")\n",
    "y_pred = model.predict(test_users, test_logs)\n",
    "\n",
    "accuracy = (test_y[\"y\"] == y_pred).sum() / len(test_y) * 100\n",
    "accuracy"
   ]
  },
  {
   "cell_type": "code",
   "execution_count": null,
   "id": "e2ec2884",
   "metadata": {},
   "outputs": [],
   "source": []
  }
 ],
 "metadata": {
  "kernelspec": {
   "display_name": "Python 3 (ipykernel)",
   "language": "python",
   "name": "python3"
  },
  "language_info": {
   "codemirror_mode": {
    "name": "ipython",
    "version": 3
   },
   "file_extension": ".py",
   "mimetype": "text/x-python",
   "name": "python",
   "nbconvert_exporter": "python",
   "pygments_lexer": "ipython3",
   "version": "3.8.10"
  }
 },
 "nbformat": 4,
 "nbformat_minor": 5
}
