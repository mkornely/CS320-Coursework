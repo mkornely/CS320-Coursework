{
 "cells": [
  {
   "cell_type": "code",
   "execution_count": 1,
   "id": "01c073cd",
   "metadata": {},
   "outputs": [],
   "source": [
    "# project: p1\n",
    "# submitter: mkornely\n",
    "# partner: none\n",
    "# hours: 6\n",
    "\n",
    "\n"
   ]
  },
  {
   "cell_type": "code",
   "execution_count": 2,
   "id": "64b46fcc",
   "metadata": {},
   "outputs": [
    {
     "data": {
      "text/plain": [
       "float"
      ]
     },
     "execution_count": 2,
     "metadata": {},
     "output_type": "execute_result"
    }
   ],
   "source": [
    "#q1\n",
    "type(7/2)"
   ]
  },
  {
   "cell_type": "code",
   "execution_count": 3,
   "id": "5159921b",
   "metadata": {},
   "outputs": [
    {
     "data": {
      "text/plain": [
       "True"
      ]
     },
     "execution_count": 3,
     "metadata": {},
     "output_type": "execute_result"
    }
   ],
   "source": [
    "#q2 \n",
    "x = 4\n",
    "maximum = 10\n",
    "minimum = 5\n",
    "error = True # True if x is outside the minimum-to-maximum range\n",
    "error"
   ]
  },
  {
   "cell_type": "code",
   "execution_count": 4,
   "id": "ac578395",
   "metadata": {},
   "outputs": [
    {
     "data": {
      "text/plain": [
       "True"
      ]
     },
     "execution_count": 4,
     "metadata": {},
     "output_type": "execute_result"
    }
   ],
   "source": [
    "#q3\n",
    "word = \"KAFKAESQUE\"\n",
    "suffix_match = word[-5:] # .endswith(...) method not allowed for this question! (practice slicing)\n",
    "suffix= \"esque\"\n",
    "suffix=suffix.upper()\n",
    "suffix_match==suffix\n"
   ]
  },
  {
   "cell_type": "code",
   "execution_count": 5,
   "id": "27cadbfc",
   "metadata": {},
   "outputs": [
    {
     "data": {
      "text/plain": [
       "7"
      ]
     },
     "execution_count": 5,
     "metadata": {},
     "output_type": "execute_result"
    }
   ],
   "source": [
    "#q4\n",
    "def add(a=0,b=1):\n",
    "    return a+b\n",
    "\n",
    "add(3,4)"
   ]
  },
  {
   "cell_type": "code",
   "execution_count": 6,
   "id": "59b0e59c",
   "metadata": {},
   "outputs": [
    {
     "data": {
      "text/plain": [
       "10"
      ]
     },
     "execution_count": 6,
     "metadata": {},
     "output_type": "execute_result"
    }
   ],
   "source": [
    "#q5\n",
    "add(9)"
   ]
  },
  {
   "cell_type": "code",
   "execution_count": 7,
   "id": "a67d8b75",
   "metadata": {},
   "outputs": [
    {
     "data": {
      "text/plain": [
       "'positive'"
      ]
     },
     "execution_count": 7,
     "metadata": {},
     "output_type": "execute_result"
    }
   ],
   "source": [
    "#q6\n",
    "x = 4\n",
    "if x<0:\n",
    "    status = \"negative\"\n",
    "elif x>0:\n",
    "    status = \"positive\"\n",
    "else:\n",
    "    status = \"zero\"\n",
    "status"
   ]
  },
  {
   "cell_type": "code",
   "execution_count": 8,
   "id": "4d1c5391",
   "metadata": {},
   "outputs": [
    {
     "name": "stdout",
     "output_type": "stream",
     "text": [
      "3\n",
      "4\n",
      "1\n",
      "6\n"
     ]
    }
   ],
   "source": [
    "nums = [3, 4, 1, 6]\n",
    "for x in nums:\n",
    "    print(x)"
   ]
  },
  {
   "cell_type": "code",
   "execution_count": 9,
   "id": "cfeca17a",
   "metadata": {},
   "outputs": [
    {
     "data": {
      "text/plain": [
       "14"
      ]
     },
     "execution_count": 9,
     "metadata": {},
     "output_type": "execute_result"
    }
   ],
   "source": [
    "#q7\n",
    "def smart_count(list): \n",
    "    sum=0\n",
    "    for x in list: \n",
    "        if(x<0):\n",
    "            break\n",
    "        if(x>10):\n",
    "            continue\n",
    "        else:\n",
    "            sum= sum+x\n",
    "            \n",
    "    return sum\n",
    "\n",
    "smart_count(nums)\n",
    "            \n",
    "        \n",
    "        \n",
    "        "
   ]
  },
  {
   "cell_type": "code",
   "execution_count": 10,
   "id": "1e2c4605",
   "metadata": {},
   "outputs": [
    {
     "data": {
      "text/plain": [
       "6"
      ]
     },
     "execution_count": 10,
     "metadata": {},
     "output_type": "execute_result"
    }
   ],
   "source": [
    "#q8\n",
    "smart_count([2, 1, 11, 3, 15, -1, 8, 2])"
   ]
  },
  {
   "cell_type": "code",
   "execution_count": 11,
   "id": "3c061a90",
   "metadata": {},
   "outputs": [
    {
     "data": {
      "text/plain": [
       "[[1, 6, {'x': 8, 'y': 5}],\n",
       " [3, 4, {'x': 9, 'y': 2}],\n",
       " [5, 2, {'x': 3, 'y': 1, 'z': 3.14}]]"
      ]
     },
     "execution_count": 11,
     "metadata": {},
     "output_type": "execute_result"
    }
   ],
   "source": [
    "#q9\n",
    "header = [\"A\", \"B\", \"C\"]\n",
    "\n",
    "coord1 = {\"x\": 8, \"y\": 5}\n",
    "coord2 = {\"x\": 9, \"y\": 2}\n",
    "coord3 = {\"x\": 3, \"y\": 1,\"z\": 3.14}\n",
    "\n",
    "rows = [\n",
    "    [1, 6, coord1],\n",
    "    [3, 4, coord2],\n",
    "    [5, 2, coord3],\n",
    "]\n",
    "\n",
    "rows\n"
   ]
  },
  {
   "cell_type": "code",
   "execution_count": 12,
   "id": "78293792",
   "metadata": {},
   "outputs": [
    {
     "data": {
      "text/plain": [
       "8"
      ]
     },
     "execution_count": 12,
     "metadata": {},
     "output_type": "execute_result"
    }
   ],
   "source": [
    "#q10\n",
    "rows[0][-1][\"x\"]"
   ]
  },
  {
   "cell_type": "code",
   "execution_count": 13,
   "id": "b042f1c1",
   "metadata": {},
   "outputs": [
    {
     "data": {
      "text/plain": [
       "[[1, 6, {'x': 8, 'y': 5}],\n",
       " [3, 9999, {'x': 9, 'y': 2}],\n",
       " [5, 2, {'x': 3, 'y': 1, 'z': 3.14}]]"
      ]
     },
     "execution_count": 13,
     "metadata": {},
     "output_type": "execute_result"
    }
   ],
   "source": [
    "#q11\n",
    "import copy\n",
    "v2 = copy.copy(rows)\n",
    "v2[0] = 8888    # first change\n",
    "v2=rows\n",
    "v2[1][1] = 9999 # second change\n",
    "rows"
   ]
  },
  {
   "cell_type": "code",
   "execution_count": 14,
   "id": "f4bb7931",
   "metadata": {},
   "outputs": [
    {
     "data": {
      "text/plain": [
       "10007"
      ]
     },
     "execution_count": 14,
     "metadata": {},
     "output_type": "execute_result"
    }
   ],
   "source": [
    "#q12\n",
    "sum=0\n",
    "for x in rows: \n",
    "    sum= sum+ x[header.index(\"B\")]\n",
    "\n",
    "sum"
   ]
  },
  {
   "cell_type": "code",
   "execution_count": 15,
   "id": "fe1cd497",
   "metadata": {},
   "outputs": [
    {
     "data": {
      "text/plain": [
       "[[5, 2, {'x': 3, 'y': 1, 'z': 3.14}],\n",
       " [1, 6, {'x': 8, 'y': 5}],\n",
       " [3, 9999, {'x': 9, 'y': 2}]]"
      ]
     },
     "execution_count": 15,
     "metadata": {},
     "output_type": "execute_result"
    }
   ],
   "source": [
    "#q13\n",
    "rows.sort(key=lambda row: row[header.index(\"B\")], reverse=False)\n",
    "rows"
   ]
  },
  {
   "cell_type": "code",
   "execution_count": 16,
   "id": "07616c5f",
   "metadata": {},
   "outputs": [
    {
     "data": {
      "text/plain": [
       "339.150487318184"
      ]
     },
     "execution_count": 16,
     "metadata": {},
     "output_type": "execute_result"
    }
   ],
   "source": [
    "#q14\n",
    "import json\n",
    "f = open(\"usd.json\")\n",
    "data=json.load(f)\n",
    "exchange=data['eur']['rate'] * 400\n",
    "exchange"
   ]
  },
  {
   "cell_type": "code",
   "execution_count": 17,
   "id": "9b985605",
   "metadata": {},
   "outputs": [
    {
     "data": {
      "text/plain": [
       "1.5"
      ]
     },
     "execution_count": 17,
     "metadata": {},
     "output_type": "execute_result"
    }
   ],
   "source": [
    "#q15\n",
    "def divide(dividend,divisor):\n",
    "    try:\n",
    "        quotient= dividend/divisor \n",
    "    except ZeroDivisionError: \n",
    "        return float(\"nan\")\n",
    "    \n",
    "    return quotient\n",
    "\n",
    "\n",
    "divide(3, 2)"
   ]
  },
  {
   "cell_type": "code",
   "execution_count": 18,
   "id": "281ce0a8",
   "metadata": {},
   "outputs": [
    {
     "data": {
      "text/plain": [
       "nan"
      ]
     },
     "execution_count": 18,
     "metadata": {},
     "output_type": "execute_result"
    }
   ],
   "source": [
    "#q16\n",
    "divide(-3, 0)"
   ]
  },
  {
   "cell_type": "code",
   "execution_count": 19,
   "id": "4d4cf7ac",
   "metadata": {},
   "outputs": [
    {
     "data": {
      "text/plain": [
       "[2013, 2014, 2015, 2016, 2017, 2018]"
      ]
     },
     "execution_count": 19,
     "metadata": {},
     "output_type": "execute_result"
    }
   ],
   "source": [
    "#q17\n",
    "import os \n",
    "import pandas \n",
    "years={}\n",
    "dirlist= os.listdir(\"/home/michaelkornely/f21/p1/home-computers\")\n",
    "for x in dirlist:\n",
    "    key= int(x.split('.')[0].split('Y')[1])\n",
    "    value=os.path.join(\"/home/michaelkornely/f21/p1/home-computers\",x)\n",
    "    years[key]=pandas.read_csv(value,skiprows=[0])\n",
    "\n",
    "\n",
    "\n",
    "sorted(years.keys())"
   ]
  },
  {
   "cell_type": "code",
   "execution_count": 20,
   "id": "9be93dde",
   "metadata": {
    "scrolled": true
   },
   "outputs": [
    {
     "data": {
      "text/plain": [
       "2371960"
      ]
     },
     "execution_count": 20,
     "metadata": {},
     "output_type": "execute_result"
    }
   ],
   "source": [
    "#q18\n",
    "df=years[2018]\n",
    "df_match= df[df['Geographic Area Name']=='Wisconsin']\n",
    "df.at[df_match.index.tolist()[0],'Estimate!!Total']"
   ]
  },
  {
   "cell_type": "code",
   "execution_count": 21,
   "id": "c1fe7363",
   "metadata": {},
   "outputs": [
    {
     "data": {
      "text/plain": [
       "10285814"
      ]
     },
     "execution_count": 21,
     "metadata": {},
     "output_type": "execute_result"
    }
   ],
   "source": [
    "#q19\n",
    "df['Estimate!!Total!!No Computer'].sum()"
   ]
  },
  {
   "cell_type": "code",
   "execution_count": 22,
   "id": "44c42eb4",
   "metadata": {},
   "outputs": [
    {
     "data": {
      "text/plain": [
       "0.12375641594322287"
      ]
     },
     "execution_count": 22,
     "metadata": {},
     "output_type": "execute_result"
    }
   ],
   "source": [
    "#q20\n",
    "x=(df['Margin of Error!!Total!!No Computer']/df['Estimate!!Total!!No Computer']).max()\n",
    "x\n"
   ]
  },
  {
   "cell_type": "code",
   "execution_count": 23,
   "id": "53c256c1",
   "metadata": {},
   "outputs": [
    {
     "data": {
      "text/plain": [
       "{'Illinois': 8.524143737625552,\n",
       " 'Indiana': 9.463486214247707,\n",
       " 'Iowa': 9.468929459023103,\n",
       " 'Michigan': 8.936374942955922,\n",
       " 'Minnesota': 7.491847623005652,\n",
       " 'Wisconsin': 9.582497175331794}"
      ]
     },
     "execution_count": 23,
     "metadata": {},
     "output_type": "execute_result"
    }
   ],
   "source": [
    "#q21\n",
    "pandas.set_option('mode.chained_assignment', None)\n",
    "\n",
    "df_adjacent=df[df['Geographic Area Name'].isin(['Wisconsin','Illinois','Indiana','Iowa','Michigan','Minnesota'])]\n",
    "df_adjacent['proportion']= (df_adjacent['Estimate!!Total!!No Computer']/df_adjacent['Estimate!!Total'])*100\n",
    "df_adjacent.set_index('Geographic Area Name').to_dict()['proportion']\n"
   ]
  },
  {
   "cell_type": "code",
   "execution_count": 24,
   "id": "5908bec1",
   "metadata": {
    "scrolled": true
   },
   "outputs": [
    {
     "data": {
      "image/png": "[encoded data removed]",
      "text/plain": [
       "<Figure size 432x288 with 1 Axes>"
      ]
     },
     "metadata": {
      "needs_background": "light"
     },
     "output_type": "display_data"
    }
   ],
   "source": [
    "#q22\n",
    "graph1= df_adjacent.plot.bar(x='Geographic Area Name',y='proportion',)\n",
    "\n",
    "graph1.set_ylabel(\"% of WI Households w/o Computers\")\n",
    "graph1.get_legend().remove()\n"
   ]
  },
  {
   "cell_type": "code",
   "execution_count": null,
   "id": "67520e16",
   "metadata": {},
   "outputs": [],
   "source": []
  },
  {
   "cell_type": "code",
   "execution_count": 25,
   "id": "41cbf28c",
   "metadata": {},
   "outputs": [
    {
     "data": {
      "text/plain": [
       "Text(0.5, 0, 'Year')"
      ]
     },
     "execution_count": 25,
     "metadata": {},
     "output_type": "execute_result"
    },
    {
     "data": {
      "image/png": "[encoded data removed]",
      "text/plain": [
       "<Figure size 432x288 with 1 Axes>"
      ]
     },
     "metadata": {
      "needs_background": "light"
     },
     "output_type": "display_data"
    }
   ],
   "source": [
    "#q23\n",
    "\n",
    "from pandas import Series, DataFrame\n",
    "onlywisconsin={}\n",
    "\n",
    "\n",
    "\n",
    "for x in sorted(years.keys()): \n",
    "    df=years[x]\n",
    "    df_match= df[df['Geographic Area Name']=='Wisconsin']\n",
    "    onlywisconsin[x]=(df.at[df_match.index.tolist()[0],'Estimate!!Total!!No Computer'])/1000\n",
    "    \n",
    "graph2=Series(onlywisconsin).plot(ylim=0)\n",
    "\n",
    "graph2.set_ylabel(\"WI Households without Computers (thousands)\")\n",
    "graph2.set_xlabel(\"Year\")\n",
    "\n"
   ]
  },
  {
   "cell_type": "code",
   "execution_count": null,
   "id": "63bcf6b6",
   "metadata": {},
   "outputs": [],
   "source": []
  },
  {
   "cell_type": "code",
   "execution_count": null,
   "id": "41ff8868",
   "metadata": {},
   "outputs": [],
   "source": []
  },
  {
   "cell_type": "code",
   "execution_count": 26,
   "id": "50558171",
   "metadata": {},
   "outputs": [
    {
     "data": {
      "text/plain": [
       "Text(0.5, 0, 'Smartphones (millions)')"
      ]
     },
     "execution_count": 26,
     "metadata": {},
     "output_type": "execute_result"
    },
    {
     "data": {
      "image/png": "[encoded data removed]",
      "text/plain": [
       "<Figure size 432x288 with 1 Axes>"
      ]
     },
     "metadata": {
      "needs_background": "light"
     },
     "output_type": "display_data"
    }
   ],
   "source": [
    "#q24\n",
    "df=years[2018]\n",
    "\n",
    "relationship={}\n",
    "\n",
    "states=df['Geographic Area Name']\n",
    "for x in states: \n",
    "    df_match= df[df['Geographic Area Name']==x]\n",
    "    index=df_match.index.tolist()[0]\n",
    "    relationship[(df.at[index,\"Estimate!!Total!!Has one or more types of computing devices!!Smartphone\"])/1000000]=(df.at[index,\"Estimate!!Total!!Has one or more types of computing devices!!Tablet or other portable wireless computer\"])/1000000\n",
    "\n",
    "\n",
    "graph3=Series(relationship).plot(style='.')\n",
    "graph3.set_ylabel(\"Tablets (millions)\")\n",
    "graph3.set_xlabel(\"Smartphones (millions)\")"
   ]
  },
  {
   "cell_type": "code",
   "execution_count": 27,
   "id": "024e4edc",
   "metadata": {},
   "outputs": [
    {
     "data": {
      "text/plain": [
       "'commit 4e4128313b8d5b5e5d04f2e8e585f64f7c5831a4'"
      ]
     },
     "execution_count": 27,
     "metadata": {},
     "output_type": "execute_result"
    }
   ],
   "source": [
    "#q25\n",
    "from subprocess import check_output\n",
    "output= check_output(\"git log\",cwd=\"/home/michaelkornely/f21/p1/cs320-p1\", shell=True)\n",
    "stringoutput=str(output, encoding=\"utf-8\")\n",
    "list=stringoutput.split('\\n')\n",
    "list[0]"
   ]
  },
  {
   "cell_type": "code",
   "execution_count": 28,
   "id": "732d2257",
   "metadata": {},
   "outputs": [
    {
     "data": {
      "text/plain": [
       "['4e4128313b8d5b5e5d04f2e8e585f64f7c5831a4',\n",
       " 'f637df3f45bc389e1035cc3aadcf5d81a55f0dc4',\n",
       " 'c10b5a6cb4f06c96f6f221df2d5ec33af767d5c5',\n",
       " 'f37e610ce055a3d894baac2d9449e6eb77c72320',\n",
       " '6f5ca9327e986315ffcacddce5d9d6195c0913b7',\n",
       " '761627a3ad9ee681f27211326e9149f01764ceee',\n",
       " 'b0df6dbe111f9e28fc3a9c9b841cde5c20c365f9',\n",
       " '6d7beafb8e79b7a92fed8e67673a33bb7f607dbe']"
      ]
     },
     "execution_count": 28,
     "metadata": {},
     "output_type": "execute_result"
    }
   ],
   "source": [
    "#q26\n",
    "output=stringoutput.split()\n",
    "\n",
    "commitlength=len(output[1])\n",
    "liststring=[]\n",
    "output\n",
    "for x in output:\n",
    "    if len(x)==commitlength:\n",
    "        liststring.append(x)\n",
    "\n",
    "liststring\n"
   ]
  },
  {
   "cell_type": "code",
   "execution_count": 29,
   "id": "e2fea507",
   "metadata": {},
   "outputs": [
    {
     "name": "stderr",
     "output_type": "stream",
     "text": [
      "Note: switching to '4e4128313b8d5b5e5d04f2e8e585f64f7c5831a4'.\n",
      "\n",
      "You are in 'detached HEAD' state. You can look around, make experimental\n",
      "changes and commit them, and you can discard any commits you make in this\n",
      "state without impacting any branches by switching back to a branch.\n",
      "\n",
      "If you want to create a new branch to retain commits you create, you may\n",
      "do so (now or later) by using -c with the switch command. Example:\n",
      "\n",
      "  git switch -c <new-branch-name>\n",
      "\n",
      "Or undo this operation with:\n",
      "\n",
      "  git switch -\n",
      "\n",
      "Turn off this advice by setting config variable advice.detachedHead to false\n",
      "\n",
      "HEAD is now at 4e41283 only make one pass over list to count all\n",
      "Previous HEAD position was 4e41283 only make one pass over list to count all\n",
      "HEAD is now at f637df3 only make one pass over list to count all\n",
      "Previous HEAD position was f637df3 only make one pass over list to count all\n",
      "HEAD is now at c10b5a6 optimize: only compute count once per unique word\n",
      "Previous HEAD position was c10b5a6 optimize: only compute count once per unique word\n",
      "HEAD is now at f37e610 do not repeatedly re-read file, use with to automatically close\n",
      "Previous HEAD position was f37e610 do not repeatedly re-read file, use with to automatically close\n",
      "HEAD is now at 6f5ca93 ignore case, usage line\n",
      "Previous HEAD position was 6f5ca93 ignore case, usage line\n",
      "HEAD is now at 761627a bugfix\n",
      "Previous HEAD position was 761627a bugfix\n",
      "HEAD is now at b0df6db support wildcards\n",
      "Previous HEAD position was b0df6db support wildcards\n",
      "HEAD is now at 6d7beaf count a specific word\n",
      "Previous HEAD position was 6d7beaf count a specific word\n",
      "Switched to branch 'main'\n"
     ]
    },
    {
     "data": {
      "text/plain": [
       "{'4e4128313b8d5b5e5d04f2e8e585f64f7c5831a4': 43,\n",
       " 'f637df3f45bc389e1035cc3aadcf5d81a55f0dc4': 40,\n",
       " 'c10b5a6cb4f06c96f6f221df2d5ec33af767d5c5': 40,\n",
       " 'f37e610ce055a3d894baac2d9449e6eb77c72320': 40,\n",
       " '6f5ca9327e986315ffcacddce5d9d6195c0913b7': 39,\n",
       " '761627a3ad9ee681f27211326e9149f01764ceee': 35,\n",
       " 'b0df6dbe111f9e28fc3a9c9b841cde5c20c365f9': 35,\n",
       " '6d7beafb8e79b7a92fed8e67673a33bb7f607dbe': 21}"
      ]
     },
     "execution_count": 29,
     "metadata": {},
     "output_type": "execute_result"
    }
   ],
   "source": [
    "#q27\n",
    "length=[]\n",
    "lengthdict= dict()\n",
    "for x in liststring: \n",
    "    check_output(\"git checkout \" + x ,cwd=\"/home/michaelkornely/f21/p1/cs320-p1\", shell=True)\n",
    "    f = open(\"/home/michaelkornely/f21/p1/cs320-p1/wc.py\")\n",
    "    lines = f.readlines()\n",
    "    length.append(len(lines))\n",
    "    f.close()\n",
    "\n",
    "check_output(\"git checkout main\",cwd=\"/home/michaelkornely/f21/p1/cs320-p1\", shell=True)\n",
    "\n",
    "count=0   \n",
    "for x in length:\n",
    "    lengthdict[liststring[count]]=x\n",
    "    count+=1\n",
    "\n",
    "lengthdict\n"
   ]
  },
  {
   "cell_type": "code",
   "execution_count": 30,
   "id": "fc2f985a",
   "metadata": {},
   "outputs": [
    {
     "data": {
      "text/plain": [
       "{'A': 1, 'B': 1, 'C': 2}"
      ]
     },
     "execution_count": 30,
     "metadata": {},
     "output_type": "execute_result"
    }
   ],
   "source": [
    "#q28\n",
    "f = open(\"input.txt\", \"w\")\n",
    "f.write(\"A B C C\")\n",
    "f.close()\n",
    "output= check_output(\"python3 cs320-p1/wc.py input.txt ALL\",cwd=\"/home/michaelkornely/f21/p1\", shell=True)\n",
    "\n",
    "output\n",
    "\n",
    "import json\n",
    "data = json.loads(output)\n",
    "\n",
    "data"
   ]
  },
  {
   "cell_type": "code",
   "execution_count": 31,
   "id": "eccdde44",
   "metadata": {},
   "outputs": [
    {
     "name": "stderr",
     "output_type": "stream",
     "text": [
      "Note: switching to '4e4128313b8d5b5e5d04f2e8e585f64f7c5831a4'.\n",
      "\n",
      "You are in 'detached HEAD' state. You can look around, make experimental\n",
      "changes and commit them, and you can discard any commits you make in this\n",
      "state without impacting any branches by switching back to a branch.\n",
      "\n",
      "If you want to create a new branch to retain commits you create, you may\n",
      "do so (now or later) by using -c with the switch command. Example:\n",
      "\n",
      "  git switch -c <new-branch-name>\n",
      "\n",
      "Or undo this operation with:\n",
      "\n",
      "  git switch -\n",
      "\n",
      "Turn off this advice by setting config variable advice.detachedHead to false\n",
      "\n",
      "HEAD is now at 4e41283 only make one pass over list to count all\n",
      "Previous HEAD position was 4e41283 only make one pass over list to count all\n",
      "HEAD is now at f637df3 only make one pass over list to count all\n",
      "Traceback (most recent call last):\n",
      "  File \"cs320-p1/wc.py\", line 40, in <module>\n",
      "    main()\n",
      "  File \"cs320-p1/wc.py\", line 33, in main\n",
      "    counts[word] += 1\n",
      "KeyError: 'A'\n",
      "Previous HEAD position was f637df3 only make one pass over list to count all\n",
      "HEAD is now at c10b5a6 optimize: only compute count once per unique word\n",
      "Previous HEAD position was c10b5a6 optimize: only compute count once per unique word\n",
      "HEAD is now at f37e610 do not repeatedly re-read file, use with to automatically close\n",
      "Previous HEAD position was f37e610 do not repeatedly re-read file, use with to automatically close\n",
      "HEAD is now at 6f5ca93 ignore case, usage line\n",
      "Previous HEAD position was 6f5ca93 ignore case, usage line\n",
      "HEAD is now at 761627a bugfix\n",
      "Previous HEAD position was 761627a bugfix\n",
      "HEAD is now at b0df6db support wildcards\n",
      "Previous HEAD position was b0df6db support wildcards\n",
      "HEAD is now at 6d7beaf count a specific word\n",
      "Previous HEAD position was 6d7beaf count a specific word\n",
      "Switched to branch 'main'\n"
     ]
    },
    {
     "data": {
      "text/plain": [
       "['f637df3f45bc389e1035cc3aadcf5d81a55f0dc4']"
      ]
     },
     "execution_count": 31,
     "metadata": {},
     "output_type": "execute_result"
    }
   ],
   "source": [
    "#q29\n",
    "import subprocess\n",
    "f = open(\"input.txt\", \"w\")\n",
    "f.write(\"A B C C\")\n",
    "f.close()\n",
    "fails=[]\n",
    "for x in liststring: \n",
    "    try:\n",
    "        check_output(\"git checkout \" + x ,cwd=\"/home/michaelkornely/f21/p1/cs320-p1\", shell=True)\n",
    "        check_output(\"python3 cs320-p1/wc.py input.txt ALL\",cwd=\"/home/michaelkornely/f21/p1\", shell=True)\n",
    "    except subprocess.CalledProcessError: \n",
    "        fails.append(x)\n",
    "\n",
    "check_output(\"git checkout main\",cwd=\"/home/michaelkornely/f21/p1/cs320-p1\", shell=True)\n",
    "\n",
    "fails"
   ]
  },
  {
   "cell_type": "code",
   "execution_count": 32,
   "id": "434d4482",
   "metadata": {},
   "outputs": [
    {
     "name": "stderr",
     "output_type": "stream",
     "text": [
      "Note: switching to '4e4128313b8d5b5e5d04f2e8e585f64f7c5831a4'.\n",
      "\n",
      "You are in 'detached HEAD' state. You can look around, make experimental\n",
      "changes and commit them, and you can discard any commits you make in this\n",
      "state without impacting any branches by switching back to a branch.\n",
      "\n",
      "If you want to create a new branch to retain commits you create, you may\n",
      "do so (now or later) by using -c with the switch command. Example:\n",
      "\n",
      "  git switch -c <new-branch-name>\n",
      "\n",
      "Or undo this operation with:\n",
      "\n",
      "  git switch -\n",
      "\n",
      "Turn off this advice by setting config variable advice.detachedHead to false\n",
      "\n",
      "HEAD is now at 4e41283 only make one pass over list to count all\n"
     ]
    },
    {
     "data": {
      "text/plain": [
       "Text(0.5, 0, 'Words')"
      ]
     },
     "execution_count": 32,
     "metadata": {},
     "output_type": "execute_result"
    },
    {
     "data": {
      "image/png": "[encoded data removed]",
      "text/plain": [
       "<Figure size 432x288 with 1 Axes>"
      ]
     },
     "metadata": {
      "needs_background": "light"
     },
     "output_type": "display_data"
    }
   ],
   "source": [
    "#q30\n",
    "import time \n",
    "timedict={}\n",
    "numberofcharacters=[0,10,25,50,100,200,400,700,1000]\n",
    "check_output(\"git checkout 4e4128313b8d5b5e5d04f2e8e585f64f7c5831a4\",cwd=\"/home/michaelkornely/f21/p1/cs320-p1\", shell=True)\n",
    "for x in numberofcharacters: \n",
    "    f = open(\"input.txt\", \"w\")\n",
    "    \n",
    "    for i in range(x):\n",
    "        f.write(str(i)+ \"\\n\")\n",
    "    \n",
    "    f.close()\n",
    "    before=time.time()\n",
    "    check_output(\"python3 cs320-p1/wc.py input.txt ALL\",cwd=\"/home/michaelkornely/f21/p1\", shell=True)\n",
    "    after=time.time()\n",
    "    timedict[x]=(after-before)*1000\n",
    "\n",
    "\n",
    "\n",
    "\n",
    "graph4=Series(timedict).plot(ylim=0)\n",
    "graph4.set_ylabel(\"Milliseconds\")\n",
    "graph4.set_xlabel(\"Words\")\n"
   ]
  },
  {
   "cell_type": "code",
   "execution_count": 33,
   "id": "515918d2",
   "metadata": {},
   "outputs": [
    {
     "name": "stderr",
     "output_type": "stream",
     "text": [
      "Previous HEAD position was 4e41283 only make one pass over list to count all\n",
      "HEAD is now at f37e610 do not repeatedly re-read file, use with to automatically close\n"
     ]
    },
    {
     "data": {
      "text/plain": [
       "Text(0.5, 0, 'Words')"
      ]
     },
     "execution_count": 33,
     "metadata": {},
     "output_type": "execute_result"
    },
    {
     "data": {
      "image/png": "[encoded data removed]",
      "text/plain": [
       "<Figure size 432x288 with 1 Axes>"
      ]
     },
     "metadata": {
      "needs_background": "light"
     },
     "output_type": "display_data"
    }
   ],
   "source": [
    "#q31\n",
    "timedict={}\n",
    "numberofcharacters=[0,10,25,50,100,200,400,700,1000]\n",
    "check_output(\"git checkout f37e610ce055a3d894baac2d9449e6eb77c72320\",cwd=\"/home/michaelkornely/f21/p1/cs320-p1\", shell=True)\n",
    "for x in numberofcharacters: \n",
    "    f = open(\"input.txt\", \"w\")\n",
    "    \n",
    "    for i in range(x):\n",
    "        f.write(str(i)+ \"\\n\")\n",
    "    \n",
    "    f.close()\n",
    "    before=time.time()\n",
    "    check_output(\"python3 cs320-p1/wc.py input.txt ALL\",cwd=\"/home/michaelkornely/f21/p1\", shell=True)\n",
    "    after=time.time()\n",
    "    timedict[x]=(after-before)*1000\n",
    "\n",
    "\n",
    "\n",
    "\n",
    "graph5=Series(timedict).plot(ylim=0)\n",
    "graph5.set_ylabel(\"Milliseconds\")\n",
    "graph5.set_xlabel(\"Words\")"
   ]
  },
  {
   "cell_type": "code",
   "execution_count": 34,
   "id": "a29434de",
   "metadata": {},
   "outputs": [
    {
     "name": "stderr",
     "output_type": "stream",
     "text": [
      "Previous HEAD position was f37e610 do not repeatedly re-read file, use with to automatically close\n",
      "HEAD is now at 6f5ca93 ignore case, usage line\n",
      "Previous HEAD position was 6f5ca93 ignore case, usage line\n",
      "Switched to branch 'main'\n"
     ]
    },
    {
     "data": {
      "text/plain": [
       "Text(0.5, 0, 'Words')"
      ]
     },
     "execution_count": 34,
     "metadata": {},
     "output_type": "execute_result"
    },
    {
     "data": {
      "image/png": "[encoded data removed]",
      "text/plain": [
       "<Figure size 432x288 with 1 Axes>"
      ]
     },
     "metadata": {
      "needs_background": "light"
     },
     "output_type": "display_data"
    }
   ],
   "source": [
    "#q32\n",
    "timedict={}\n",
    "numberofcharacters=[0,10,25,50,100,200,400,700,1000]\n",
    "check_output(\"git checkout 6f5ca9327e986315ffcacddce5d9d6195c0913b7\",cwd=\"/home/michaelkornely/f21/p1/cs320-p1\", shell=True)\n",
    "for x in numberofcharacters: \n",
    "    f = open(\"input.txt\", \"w\")\n",
    "    \n",
    "    for i in range(x):\n",
    "        f.write(str(i)+ \"\\n\")\n",
    "    \n",
    "    f.close()\n",
    "    before=time.time()\n",
    "    check_output(\"python3 cs320-p1/wc.py input.txt ALL\",cwd=\"/home/michaelkornely/f21/p1\", shell=True)\n",
    "    after=time.time()\n",
    "    timedict[x]=(after-before)*1000\n",
    "\n",
    "\n",
    "\n",
    "check_output(\"git checkout main\",cwd=\"/home/michaelkornely/f21/p1/cs320-p1\", shell=True)\n",
    "\n",
    "graph6=Series(timedict).plot(ylim=0)\n",
    "graph6.set_ylabel(\"Milliseconds\")\n",
    "graph6.set_xlabel(\"Words\")"
   ]
  },
  {
   "cell_type": "code",
   "execution_count": null,
   "id": "60263c13",
   "metadata": {},
   "outputs": [],
   "source": []
  },
  {
   "cell_type": "code",
   "execution_count": null,
   "id": "d9b2958f",
   "metadata": {},
   "outputs": [],
   "source": []
  },
  {
   "cell_type": "code",
   "execution_count": null,
   "id": "3300dd5e",
   "metadata": {},
   "outputs": [],
   "source": []
  }
 ],
 "metadata": {
  "kernelspec": {
   "display_name": "Python 3 (ipykernel)",
   "language": "python",
   "name": "python3"
  },
  "language_info": {
   "codemirror_mode": {
    "name": "ipython",
    "version": 3
   },
   "file_extension": ".py",
   "mimetype": "text/x-python",
   "name": "python",
   "nbconvert_exporter": "python",
   "pygments_lexer": "ipython3",
   "version": "3.8.10"
  }
 },
 "nbformat": 4,
 "nbformat_minor": 5
}
