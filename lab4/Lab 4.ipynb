{
 "cells": [
  {
   "cell_type": "code",
   "execution_count": 1,
   "id": "4d11f468",
   "metadata": {},
   "outputs": [],
   "source": [
    "class Node:\n",
    "    def __init__(self, val):\n",
    "        self.val = val\n",
    "        self.next = None\n",
    "    \n",
    "    def __len__(self):\n",
    "        if self.next == None:\n",
    "            # base case: I'm the only Node!  Length must be 1\n",
    "            return 1\n",
    "        else:\n",
    "            # recursive case: total length is the length of next plus 1\n",
    "            raise NotImplemented(\"recursive case not implemented yet\")\n",
    "\n",
    "L = Node(3)\n",
    "L2 = Node(5)\n",
    "L3 = Node(7)\n",
    "L.next = L2\n",
    "L2.next = L3\n",
    "    \n",
    "    "
   ]
  },
  {
   "cell_type": "code",
   "execution_count": 2,
   "id": "bc5870cb",
   "metadata": {},
   "outputs": [
    {
     "data": {
      "text/plain": [
       "3"
      ]
     },
     "execution_count": 2,
     "metadata": {},
     "output_type": "execute_result"
    }
   ],
   "source": [
    "L.val\n"
   ]
  },
  {
   "cell_type": "code",
   "execution_count": 3,
   "id": "33ff0529",
   "metadata": {},
   "outputs": [
    {
     "data": {
      "text/plain": [
       "5"
      ]
     },
     "execution_count": 3,
     "metadata": {},
     "output_type": "execute_result"
    }
   ],
   "source": [
    "L.next.val\n"
   ]
  },
  {
   "cell_type": "code",
   "execution_count": 4,
   "id": "92f83de3",
   "metadata": {},
   "outputs": [
    {
     "data": {
      "text/plain": [
       "7"
      ]
     },
     "execution_count": 4,
     "metadata": {},
     "output_type": "execute_result"
    }
   ],
   "source": [
    "L.next.next.val"
   ]
  },
  {
   "cell_type": "code",
   "execution_count": 5,
   "id": "8397d843",
   "metadata": {},
   "outputs": [
    {
     "data": {
      "text/plain": [
       "1"
      ]
     },
     "execution_count": 5,
     "metadata": {},
     "output_type": "execute_result"
    }
   ],
   "source": [
    "len(L3)"
   ]
  },
  {
   "cell_type": "code",
   "execution_count": 6,
   "id": "156f6dd7",
   "metadata": {},
   "outputs": [],
   "source": [
    "    def __repr__(self):\n",
    "        if self.next == None:\n",
    "            return repr(self.val)\n",
    "        else:\n",
    "            return repr(self.val)+\",\"+repr(self.next)\n",
    "\n",
    "        "
   ]
  },
  {
   "cell_type": "code",
   "execution_count": 7,
   "id": "f01be913",
   "metadata": {},
   "outputs": [],
   "source": [
    "    def __getitem__(self, idx):\n",
    "        if idx == 0:\n",
    "            # base case\n",
    "            return self.val\n",
    "        else:\n",
    "            # recursive case\n",
    "            if self.next == None:\n",
    "                raise IndexError()\n",
    "                \n",
    "            return self.next[idx-1]\n"
   ]
  },
  {
   "cell_type": "code",
   "execution_count": null,
   "id": "3a0d2910",
   "metadata": {},
   "outputs": [],
   "source": [
    "    def append(self, val):\n",
    "        last_node = self\n",
    "        while last_node.next != None:\n",
    "            last_node = last_node.next\n",
    "        last_node.next = Node()\n"
   ]
  }
 ],
 "metadata": {
  "kernelspec": {
   "display_name": "Python 3 (ipykernel)",
   "language": "python",
   "name": "python3"
  },
  "language_info": {
   "codemirror_mode": {
    "name": "ipython",
    "version": 3
   },
   "file_extension": ".py",
   "mimetype": "text/x-python",
   "name": "python",
   "nbconvert_exporter": "python",
   "pygments_lexer": "ipython3",
   "version": "3.8.10"
  }
 },
 "nbformat": 4,
 "nbformat_minor": 5
}
